{
 "cells": [
  {
   "cell_type": "markdown",
   "metadata": {},
   "source": [
    "# WeatherPy\n",
    "----\n",
    "\n",
    "#### Note\n",
    "* Instructions have been included for each segment. You do not have to follow them exactly, but they are included to help you think through the steps."
   ]
  },
  {
   "cell_type": "code",
   "execution_count": 1,
   "metadata": {
    "scrolled": true
   },
   "outputs": [],
   "source": [
    "# Dependencies and Setup\n",
    "import matplotlib.pyplot as plt\n",
    "import pandas as pd\n",
    "import numpy as np\n",
    "import requests\n",
    "import time\n",
    "from scipy.stats import linregress\n",
    "from pprint import pprint\n",
    "import datetime\n",
    "\n",
    "# Import API key\n",
    "from api_keys import weather_api_key\n",
    "\n",
    "# Incorporated citipy to determine city based on latitude and longitude\n",
    "from citipy import citipy\n",
    "\n",
    "# Output File (CSV)\n",
    "output_data_file = \"output_data/cities.csv\"\n",
    "\n",
    "# Range of latitudes and longitudes\n",
    "lat_range = (-90, 90)\n",
    "lng_range = (-180, 180)"
   ]
  },
  {
   "cell_type": "markdown",
   "metadata": {},
   "source": [
    "## Generate Cities List"
   ]
  },
  {
   "cell_type": "code",
   "execution_count": 2,
   "metadata": {},
   "outputs": [
    {
     "name": "stdout",
     "output_type": "stream",
     "text": [
      "629\n"
     ]
    }
   ],
   "source": [
    "# List for holding lat_lngs and cities\n",
    "lat_lngs = []\n",
    "cities = []\n",
    "\n",
    "# Create a set of random lat and lng combinations\n",
    "lats = np.random.uniform(lat_range[0], lat_range[1], size=1500)\n",
    "lngs = np.random.uniform(lng_range[0], lng_range[1], size=1500)\n",
    "lat_lngs = zip(lats, lngs)\n",
    "\n",
    "# Identify nearest city for each lat, lng combination\n",
    "for lat_lng in lat_lngs:\n",
    "    city = citipy.nearest_city(lat_lng[0], lat_lng[1]).city_name\n",
    "    \n",
    "    # If the city is unique, then add it to a our cities list\n",
    "    if city not in cities:\n",
    "        cities.append(city)\n",
    "\n",
    "# Print the city count to confirm sufficient count\n",
    "print(len(cities))"
   ]
  },
  {
   "cell_type": "markdown",
   "metadata": {},
   "source": [
    "### Perform API Calls\n",
    "* Perform a weather check on each city using a series of successive API calls.\n",
    "* Include a print log of each city as it'sbeing processed (with the city number and city name).\n"
   ]
  },
  {
   "cell_type": "code",
   "execution_count": 3,
   "metadata": {
    "scrolled": true
   },
   "outputs": [
    {
     "name": "stdout",
     "output_type": "stream",
     "text": [
      "City 0 : ribeira grande\n",
      "City 1 : honningsvag\n",
      "City 2 : punta arenas\n",
      "City 3 : salalah\n",
      "City 4 : qaanaaq\n",
      "City 5 : puerto colombia\n",
      "City 6 : bosconia\n",
      "City 7 : bandar\n",
      "City 8 : yellowknife\n",
      "City 9 : puerto ayora\n",
      "City 10 : hobart\n",
      "City 11 : carnarvon\n",
      "City 12 : geraldton\n",
      "City 13 Not Found\n",
      "City 14 : busselton\n",
      "City 15 : hermanus\n",
      "City 16 : bathsheba\n",
      "City 17 : talnakh\n",
      "City 18 : abu samrah\n",
      "City 19 : ancud\n",
      "City 20 : chuy\n",
      "City 21 : solnechnyy\n",
      "City 22 : genhe\n",
      "City 23 : ribas do rio pardo\n",
      "City 24 : esperance\n",
      "City 25 : cabo san lucas\n",
      "City 26 : quatre cocos\n",
      "City 27 : cidreira\n",
      "City 28 : tiksi\n",
      "City 29 : tuim\n",
      "City 30 : bluff\n",
      "City 31 : bairiki\n",
      "City 32 : port alfred\n",
      "City 33 : saint-philippe\n",
      "City 34 : gat\n",
      "City 35 : ponta do sol\n",
      "City 36 : madiun\n",
      "City 37 : victoria\n",
      "City 38 : chokurdakh\n",
      "City 39 : avarua\n",
      "City 40 : ruteng\n",
      "City 41 : zunyi\n",
      "City 42 : barrow\n",
      "City 43 : rikitea\n",
      "City 44 : monticello\n",
      "City 45 : lagoa\n",
      "City 46 Not Found\n",
      "City 47 Not Found\n",
      "City 48 : namatanai\n",
      "City 49 Not Found\n",
      "City 50 Not Found\n",
      "City 51 : karla\n",
      "City 52 : sechura\n",
      "City 53 : aksu\n",
      "City 54 : cam ranh\n",
      "City 55 : laguna\n",
      "City 56 : lata\n",
      "City 57 : atasu\n",
      "City 58 : arraial do cabo\n",
      "City 59 : iqaluit\n",
      "City 60 : tuktoyaktuk\n",
      "City 61 : north bend\n",
      "City 62 : obala\n",
      "City 63 : bengkulu\n",
      "City 64 : ushuaia\n",
      "City 65 Not Found\n",
      "City 66 : cape town\n",
      "City 67 : atuona\n",
      "City 68 : kapaa\n",
      "City 69 : namibe\n",
      "City 70 : vestmannaeyjar\n",
      "City 71 : mataura\n",
      "City 72 : taoudenni\n",
      "City 73 : myski\n",
      "City 74 : athol\n",
      "City 75 : khatanga\n",
      "City 76 : yerbogachen\n",
      "City 77 : bambous virieux\n",
      "City 78 : awbari\n",
      "City 79 : chemainus\n",
      "City 80 : vaini\n",
      "City 81 : clyde river\n",
      "City 82 : komsomolskiy\n",
      "City 83 : hithadhoo\n",
      "City 84 : agadez\n",
      "City 85 : airai\n",
      "City 86 : hilo\n",
      "City 87 : longyearbyen\n",
      "City 88 Not Found\n",
      "City 89 : falun\n",
      "City 90 : petropavlovka\n",
      "City 91 : nikolskoye\n",
      "City 92 : hawera\n",
      "City 93 : itarema\n",
      "City 94 : ust-omchug\n",
      "City 95 : pingzhuang\n",
      "City 96 : huarmey\n",
      "City 97 : narasannapeta\n",
      "City 98 : kavieng\n",
      "City 99 : yelan\n",
      "City 100 : dasoguz\n",
      "City 101 : novobirilyussy\n",
      "City 102 : flinders\n",
      "City 103 : osorno\n",
      "City 104 : west wendover\n",
      "City 105 : limpapa\n",
      "City 106 : provideniya\n",
      "City 107 : puerto quijarro\n",
      "City 108 : kaitangata\n",
      "City 109 : butaritari\n",
      "City 110 : narsaq\n",
      "City 111 : fethiye\n",
      "City 112 : guerrero negro\n",
      "City 113 : bilibino\n",
      "City 114 : tiznit\n",
      "City 115 Not Found\n",
      "City 116 : saint-augustin\n",
      "City 117 : viedma\n",
      "City 118 : nago\n",
      "City 119 : east london\n",
      "City 120 : san vicente\n",
      "City 121 : richards bay\n",
      "City 122 : santa cruz\n",
      "City 123 : sao joao da barra\n",
      "City 124 : hualmay\n",
      "City 125 : jamestown\n",
      "City 126 : georgetown\n",
      "City 127 : castro\n",
      "City 128 : ulaanbaatar\n",
      "City 129 : bredasdorp\n",
      "City 130 : sur\n",
      "City 131 : kosh-agach\n",
      "City 132 : manzini\n",
      "City 133 : saldanha\n",
      "City 134 : thompson\n",
      "City 135 : semey\n",
      "City 136 : faanui\n",
      "City 137 : chunhuhub\n",
      "City 138 : matara\n",
      "City 139 : burton\n",
      "City 140 : dvinskoy\n",
      "City 141 : aklavik\n",
      "City 142 : juneau\n",
      "City 143 : batesville\n",
      "City 144 : malibu\n",
      "City 145 : starosubkhangulovo\n",
      "City 146 : fortuna\n",
      "City 147 : leningradskiy\n",
      "City 148 : aykhal\n",
      "City 149 Not Found\n",
      "City 150 : belaya gora\n",
      "City 151 : sao filipe\n",
      "City 152 : sicamous\n",
      "City 153 : boa vista\n",
      "City 154 : vardo\n",
      "City 155 : nogliki\n",
      "City 156 : ha giang\n",
      "City 157 : acapulco\n",
      "City 158 : lebu\n",
      "City 159 Not Found\n",
      "City 160 Not Found\n",
      "City 161 : arlit\n",
      "City 162 : kysyl-syr\n",
      "City 163 : zhigansk\n",
      "City 164 : bunia\n",
      "City 165 : albany\n",
      "City 166 : pirapemas\n",
      "City 167 : whitehorse\n",
      "City 168 : cardston\n",
      "City 169 : hasaki\n",
      "City 170 : dingle\n",
      "City 171 Not Found\n",
      "City 172 : moree\n",
      "City 173 : maturin\n",
      "City 174 : dwarka\n",
      "City 175 : ambon\n",
      "City 176 : luxor\n",
      "City 177 : chumikan\n",
      "City 178 : jamundi\n",
      "City 179 : harper\n",
      "City 180 : englewood\n",
      "City 181 : kuytun\n",
      "City 182 : kashi\n",
      "City 183 : beira\n",
      "City 184 : tessalit\n",
      "City 185 : hvide sande\n",
      "City 186 : stromness\n",
      "City 187 : lusambo\n",
      "City 188 Not Found\n",
      "City 189 : merauke\n",
      "City 190 : sobolevo\n",
      "City 191 : bereda\n",
      "City 192 : palocabildo\n",
      "City 193 : santa ines\n",
      "City 194 : kilindoni\n",
      "City 195 : asau\n",
      "City 196 : broome\n",
      "City 197 : cockburn town\n",
      "City 198 : bubaque\n",
      "City 199 : naze\n",
      "City 200 : lashio\n",
      "City 201 : chake chake\n",
      "City 202 : itaituba\n",
      "City 203 : souillac\n",
      "City 204 : la rioja\n",
      "City 205 : mosquera\n",
      "City 206 : kyra\n",
      "City 207 : la ronge\n",
      "City 208 : weligama\n",
      "City 209 : port elizabeth\n",
      "City 210 : nantucket\n",
      "City 211 : okhotsk\n",
      "City 212 : belyy yar\n",
      "City 213 : cabedelo\n",
      "City 214 : lavrentiya\n",
      "City 215 : mareeba\n",
      "City 216 : mantua\n",
      "City 217 : nome\n",
      "City 218 : yamada\n",
      "City 219 : rawson\n",
      "City 220 : te anau\n",
      "City 221 : cayenne\n",
      "City 222 : nelson bay\n",
      "City 223 : ormara\n",
      "City 224 : luderitz\n",
      "City 225 : temryuk\n",
      "City 226 : hukuntsi\n",
      "City 227 : saint george\n",
      "City 228 : sao felix do xingu\n",
      "City 229 Not Found\n",
      "City 230 Not Found\n",
      "City 231 : bad salzdetfurth\n",
      "City 232 : kununurra\n",
      "City 233 : tasiilaq\n",
      "City 234 : batagay\n",
      "City 235 : colac\n",
      "City 236 : leshukonskoye\n",
      "City 237 : allapalli\n",
      "City 238 : iwanai\n",
      "City 239 : padang\n",
      "City 240 : impfondo\n",
      "City 241 : maralal\n",
      "City 242 : aripuana\n",
      "City 243 : novo aripuana\n",
      "City 244 : yulara\n",
      "City 245 : dikson\n",
      "City 246 : kodiak\n",
      "City 247 : severo-kurilsk\n",
      "City 248 : constitucion\n",
      "City 249 : mount gambier\n",
      "City 250 : zaysan\n",
      "City 251 Not Found\n",
      "City 252 : urengoy\n",
      "City 253 : port moresby\n",
      "City 254 : barahona\n",
      "City 255 : eenhana\n",
      "City 256 : cloquet\n",
      "City 257 : de-kastri\n",
      "City 258 : haines junction\n",
      "City 259 : seoul\n",
      "City 260 : shetpe\n",
      "City 261 : ostrovnoy\n",
      "City 262 : swan river\n",
      "City 263 : tak bai\n",
      "City 264 Not Found\n",
      "City 265 : christchurch\n",
      "City 266 : khorixas\n",
      "City 267 : mahebourg\n",
      "City 268 : sulangan\n",
      "City 269 : dhidhdhoo\n",
      "City 270 : anadyr\n",
      "City 271 : antofagasta\n",
      "City 272 : san quintin\n",
      "City 273 : berlevag\n",
      "City 274 : margate\n",
      "City 275 : palafrugell\n",
      "City 276 : sale\n",
      "City 277 : masvingo\n",
      "City 278 : general roca\n",
      "City 279 : hirara\n",
      "City 280 : bonfim\n",
      "City 281 : port hedland\n",
      "City 282 : sinnamary\n",
      "City 283 : fort nelson\n",
      "City 284 : san jose\n",
      "City 285 : karratha\n",
      "City 286 : katangli\n",
      "City 287 : santa cruz cabralia\n",
      "City 288 : xining\n",
      "City 289 : nanortalik\n",
      "City 290 : requena\n",
      "City 291 : winsum\n",
      "City 292 : hay river\n",
      "City 293 : new norfolk\n",
      "City 294 : kubinka\n",
      "City 295 : teya\n",
      "City 296 : buchanan\n",
      "City 297 Not Found\n",
      "City 298 : punta alta\n",
      "City 299 : birjand\n",
      "City 300 : ha tinh\n",
      "City 301 : bethel\n",
      "City 302 : dehloran\n",
      "City 303 : gravdal\n",
      "City 304 Not Found\n",
      "City 305 Not Found\n",
      "City 306 : natalio\n",
      "City 307 : neuquen\n",
      "City 308 : tuatapere\n",
      "City 309 : upernavik\n",
      "City 310 : coquimbo\n",
      "City 311 : lyubim\n",
      "City 312 Not Found\n",
      "City 313 : ozark\n",
      "City 314 : santa maria ixhuatan\n",
      "City 315 : aquiraz\n",
      "City 316 : chara\n",
      "City 317 : ostersund\n",
      "City 318 : ilulissat\n",
      "City 319 : wattegama\n",
      "City 320 : petatlan\n",
      "City 321 : baykit\n",
      "City 322 : abha\n",
      "City 323 : antalaha\n",
      "City 324 : luena\n",
      "City 325 : langarud\n",
      "City 326 : havoysund\n",
      "City 327 Not Found\n",
      "City 328 : riverton\n",
      "City 329 : aginskoye\n",
      "City 330 : poopo\n",
      "City 331 : mana\n",
      "City 332 : sibolga\n",
      "City 333 : ahipara\n",
      "City 334 : kongolo\n",
      "City 335 : carutapera\n",
      "City 336 : codrington\n",
      "City 337 : show low\n",
      "City 338 : jalu\n",
      "City 339 : college\n",
      "City 340 : ketchikan\n",
      "City 341 : kitob\n",
      "City 342 : papara\n",
      "City 343 : paracuru\n",
      "City 344 : namuac\n",
      "City 345 : nadym\n",
      "City 346 : preobrazheniye\n",
      "City 347 : hami\n",
      "City 348 : lipari\n",
      "City 349 Not Found\n",
      "City 350 : lebowakgomo\n",
      "City 351 : constantine\n",
      "City 352 : beloha\n",
      "City 353 : korla\n",
      "City 354 : nobeoka\n",
      "City 355 : kalaleh\n",
      "City 356 : meulaboh\n",
      "City 357 : cherskiy\n",
      "City 358 : bay city\n",
      "City 359 : penuelas\n",
      "City 360 : labuhan\n",
      "City 361 : turayf\n",
      "City 362 : kodinsk\n",
      "City 363 : great bend\n",
      "City 364 : sioux lookout\n",
      "City 365 : qaqortoq\n",
      "City 366 : kuah\n",
      "City 367 : monrovia\n",
      "City 368 : yuzhno-kurilsk\n",
      "City 369 : shelburne\n",
      "City 370 : tongliao\n",
      "City 371 : sept-iles\n",
      "City 372 : nauta\n",
      "City 373 : saskylakh\n",
      "City 374 : nottuln\n",
      "City 375 : mar del plata\n",
      "City 376 : nemuro\n",
      "City 377 Not Found\n",
      "City 378 : mayo\n",
      "City 379 : arbagar\n",
      "City 380 : ribeira brava\n",
      "City 381 : dabakala\n",
      "City 382 : zhangye\n",
      "City 383 : kruisfontein\n",
      "City 384 : quisqueya\n",
      "City 385 : agas\n",
      "City 386 Not Found\n",
      "City 387 : yumaguzino\n",
      "City 388 : lima\n",
      "City 389 : kangaatsiaq\n",
      "City 390 : xiongyue\n",
      "City 391 : paris\n",
      "City 392 : mizdah\n",
      "City 393 : zhongshu\n",
      "City 394 : bambanglipuro\n",
      "City 395 : maracacume\n",
      "City 396 : el campo\n",
      "City 397 : touros\n",
      "City 398 : tigil\n",
      "City 399 : grafton\n",
      "City 400 : ransang\n",
      "City 401 : bowen\n",
      "City 402 : pacific grove\n",
      "City 403 : chapais\n",
      "City 404 : waipawa\n",
      "City 405 : kudahuvadhoo\n",
      "City 406 : katsuura\n",
      "City 407 : nakamura\n",
      "City 408 : hofn\n",
      "City 409 : machiques\n",
      "City 410 : keuruu\n",
      "City 411 : berdigestyakh\n",
      "City 412 : miraflores\n",
      "City 413 : askino\n",
      "City 414 : tevriz\n",
      "City 415 : vao\n",
      "City 416 : kulhudhuffushi\n",
      "City 417 : portland\n",
      "City 418 : buala\n",
      "City 419 : kuala terengganu\n",
      "City 420 Not Found\n",
      "City 421 : deputatskiy\n",
      "City 422 : pevek\n",
      "City 423 : banswada\n",
      "City 424 Not Found\n",
      "City 425 : langsa\n",
      "City 426 : pisco\n",
      "City 427 : cervo\n",
      "City 428 : ayan\n",
      "City 429 : liezen\n",
      "City 430 : halifax\n",
      "City 431 : alofi\n",
      "City 432 : west fargo\n",
      "City 433 : poum\n",
      "City 434 : olafsvik\n",
      "City 435 : westport\n",
      "City 436 : porto novo\n",
      "City 437 : yar-sale\n",
      "City 438 : dongli\n",
      "City 439 : ugoofaaru\n",
      "City 440 : suda\n",
      "City 441 : cordoba\n",
      "City 442 : lazaro cardenas\n",
      "City 443 : moranbah\n",
      "City 444 : esil\n",
      "City 445 : guiratinga\n",
      "City 446 : derzhavinsk\n",
      "City 447 : kaeo\n",
      "City 448 : kalianget\n",
      "City 449 : atar\n",
      "City 450 : pochutla\n",
      "City 451 : miri\n",
      "City 452 : xichang\n",
      "City 453 : charlestown\n",
      "City 454 Not Found\n",
      "City 455 Not Found\n",
      "City 456 : kantunilkin\n",
      "City 457 : campbell river\n",
      "City 458 : nova vodolaha\n",
      "City 459 : tomatlan\n",
      "City 460 Not Found\n",
      "City 461 : kijang\n",
      "City 462 : desaguadero\n",
      "City 463 Not Found\n",
      "City 464 : mount isa\n",
      "City 465 : bossier city\n",
      "City 466 : carman\n",
      "City 467 : wanning\n",
      "City 468 : sangueya\n",
      "City 469 : lesnoye\n",
      "City 470 : krasnozerskoye\n",
      "City 471 : udachnyy\n",
      "City 472 : kolosovka\n",
      "City 473 : nedjo\n",
      "City 474 Not Found\n",
      "City 475 : nagaur\n",
      "City 476 Not Found\n",
      "City 477 : rehoboth\n",
      "City 478 : thinadhoo\n",
      "City 479 Not Found\n",
      "City 480 : dengfeng\n",
      "City 481 : gariaband\n",
      "City 482 : rio grande\n",
      "City 483 : sorong\n",
      "City 484 : macau\n",
      "City 485 : farafangana\n",
      "City 486 Not Found\n",
      "City 487 : bad hofgastein\n",
      "City 488 : makakilo city\n",
      "City 489 : wenling\n",
      "City 490 : bintulu\n",
      "City 491 : urubicha\n",
      "City 492 : kuruman\n",
      "City 493 : surgut\n",
      "City 494 : bumba\n",
      "City 495 : suntar\n",
      "City 496 : belle fourche\n",
      "City 497 : chihuahua\n",
      "City 498 : torbay\n",
      "City 499 : iberia\n",
      "City 500 : shimoda\n",
      "City 501 : prince rupert\n",
      "City 502 : natal\n",
      "City 503 : durango\n",
      "City 504 : kiunga\n",
      "City 505 : sitka\n",
      "City 506 : aksarka\n",
      "City 507 : klaksvik\n",
      "City 508 : mayor pablo lagerenza\n",
      "City 509 : poronaysk\n",
      "City 510 : san ignacio\n",
      "City 511 Not Found\n",
      "City 512 : trofors\n",
      "City 513 : san cristobal\n",
      "City 514 : fukuma\n",
      "City 515 : morelia\n",
      "City 516 : erenhot\n",
      "City 517 : santona\n",
      "City 518 : busembatia\n",
      "City 519 : daru\n",
      "City 520 : port lincoln\n",
      "City 521 : felanitx\n",
      "City 522 : lazo\n",
      "City 523 : agirish\n",
      "City 524 : asfi\n",
      "City 525 : hit\n",
      "City 526 : yumen\n",
      "City 527 : myitkyina\n",
      "City 528 : ilhabela\n",
      "City 529 : dhrangadhra\n",
      "City 530 : ilebo\n",
      "City 531 : hidrolandia\n",
      "City 532 Not Found\n",
      "City 533 : palmer\n",
      "City 534 : boa esperanca\n",
      "City 535 : husavik\n",
      "City 536 : santa isabel do rio negro\n",
      "City 537 : lasa\n",
      "City 538 : manoel urbano\n",
      "City 539 : henties bay\n",
      "City 540 : barstow\n",
      "City 541 Not Found\n",
      "City 542 : vammala\n",
      "City 543 : ola\n",
      "City 544 : najran\n",
      "City 545 : kawalu\n",
      "City 546 : peniche\n",
      "City 547 Not Found\n",
      "City 548 : kampong thum\n",
      "City 549 : norman wells\n",
      "City 550 : micheweni\n",
      "City 551 : galle\n",
      "City 552 : teahupoo\n",
      "City 553 : marawi\n",
      "City 554 : ibotirama\n",
      "City 555 : oranjemund\n",
      "City 556 : kavaratti\n",
      "City 557 : marck\n",
      "City 558 : oistins\n",
      "City 559 Not Found\n",
      "City 560 Not Found\n",
      "City 561 : astoria\n",
      "City 562 Not Found\n",
      "City 563 : santa isabel\n",
      "City 564 : bassano\n",
      "City 565 : minudasht\n",
      "City 566 : straumen\n",
      "City 567 : mersing\n",
      "City 568 : cap malheureux\n",
      "City 569 : valdepenas\n",
      "City 570 : marsa matruh\n",
      "City 571 Not Found\n",
      "City 572 : san patricio\n",
      "City 573 : at-bashi\n",
      "City 574 : saqqez\n",
      "City 575 : shingu\n",
      "City 576 : sosva\n",
      "City 577 : vila franca do campo\n",
      "City 578 : salsig\n",
      "City 579 : sisimiut\n",
      "City 580 : tokur\n",
      "City 581 : mundo nuevo\n",
      "City 582 : nueva esparta\n",
      "City 583 : mao\n",
      "City 584 : amapa\n",
      "City 585 : phalodi\n",
      "City 586 : port blair\n",
      "City 587 Not Found\n",
      "City 588 : elizabeth city\n",
      "City 589 : lorengau\n",
      "City 590 : tefe\n",
      "City 591 : tubuala\n",
      "City 592 : tsabong\n",
      "City 593 : ixtapa\n",
      "City 594 : naryan-mar\n",
      "City 595 Not Found\n",
      "City 596 : uberaba\n",
      "City 597 : hamilton\n",
      "City 598 : sandpoint\n",
      "City 599 : sola\n",
      "City 600 : jinxiang\n",
      "City 601 : terrenate\n",
      "City 602 : gweru\n",
      "City 603 : northam\n",
      "City 604 : jalpan\n",
      "City 605 Not Found\n",
      "City 606 : kuryk\n",
      "City 607 : kieta\n",
      "City 608 : aleksandrov gay\n",
      "City 609 : wau\n",
      "City 610 : road town\n",
      "City 611 : asyut\n",
      "City 612 : eyl\n",
      "City 613 : saint-leu\n",
      "City 614 : san nicolas\n",
      "City 615 : phetchaburi\n",
      "City 616 : pingliang\n",
      "City 617 : batagay-alyta\n",
      "City 618 Not Found\n",
      "City 619 : adamas\n",
      "City 620 : kampot\n",
      "City 621 : constanza\n",
      "City 622 : andra\n",
      "City 623 : mackenzie\n",
      "City 624 : timmins\n",
      "City 625 : maniitsoq\n",
      "City 626 : jacqueville\n",
      "City 627 : semporna\n",
      "City 628 Not Found\n"
     ]
    }
   ],
   "source": [
    "# Lists\n",
    "city_id = []\n",
    "city_name = []\n",
    "cloudlines = []\n",
    "country = []\n",
    "date = []\n",
    "humidity = []\n",
    "lat = []\n",
    "long = []\n",
    "max_temp = []\n",
    "wind_speed = []\n",
    "\n",
    "url = \"http://api.openweathermap.org/data/2.5/weather?\"\n",
    "units = \"imperial\"\n",
    "\n",
    "query_url = f\"{url}appid={weather_api_key}&units={units}&q=\"\n",
    "\n",
    "for city in cities:\n",
    "    response = requests.get(query_url + city).json()\n",
    "    if response == {'cod': '404', 'message': 'city not found'}:\n",
    "        print(f\"City {cities.index(city)} Not Found\")\n",
    "    else:\n",
    "        city_id.append([cities.index(city)])\n",
    "        city_name.append(city)\n",
    "        cloudlines.append(response['clouds']['all'])\n",
    "        country.append(response[\"sys\"]['country'])\n",
    "        date.append(response[\"dt\"])\n",
    "        humidity.append(response[\"main\"]['humidity'])\n",
    "        lat.append(response[\"coord\"]['lat'])\n",
    "        long.append(response[\"coord\"]['lon'])\n",
    "        max_temp.append(response[\"main\"]['temp_max'])\n",
    "        wind_speed.append(response[\"wind\"]['speed'])\n",
    "        print(f\"City {cities.index(city)} : {city}\")"
   ]
  },
  {
   "cell_type": "markdown",
   "metadata": {},
   "source": [
    "### Convert Raw Data to DataFrame\n",
    "* Export the city data into a .csv.\n",
    "* Display the DataFrame"
   ]
  },
  {
   "cell_type": "code",
   "execution_count": 4,
   "metadata": {},
   "outputs": [
    {
     "data": {
      "text/html": [
       "<div>\n",
       "<style scoped>\n",
       "    .dataframe tbody tr th:only-of-type {\n",
       "        vertical-align: middle;\n",
       "    }\n",
       "\n",
       "    .dataframe tbody tr th {\n",
       "        vertical-align: top;\n",
       "    }\n",
       "\n",
       "    .dataframe thead th {\n",
       "        text-align: right;\n",
       "    }\n",
       "</style>\n",
       "<table border=\"1\" class=\"dataframe\">\n",
       "  <thead>\n",
       "    <tr style=\"text-align: right;\">\n",
       "      <th></th>\n",
       "      <th>City ID</th>\n",
       "      <th>City Name</th>\n",
       "      <th>Cloudiness</th>\n",
       "      <th>Country</th>\n",
       "      <th>Date</th>\n",
       "      <th>Humidity</th>\n",
       "      <th>Latitiude</th>\n",
       "      <th>Longitude</th>\n",
       "      <th>Max Temp</th>\n",
       "      <th>Wind Speed</th>\n",
       "    </tr>\n",
       "  </thead>\n",
       "  <tbody>\n",
       "    <tr>\n",
       "      <th>0</th>\n",
       "      <td>[0]</td>\n",
       "      <td>ribeira grande</td>\n",
       "      <td>91</td>\n",
       "      <td>PT</td>\n",
       "      <td>1665537239</td>\n",
       "      <td>89</td>\n",
       "      <td>38.5167</td>\n",
       "      <td>-28.7000</td>\n",
       "      <td>69.78</td>\n",
       "      <td>1.99</td>\n",
       "    </tr>\n",
       "    <tr>\n",
       "      <th>1</th>\n",
       "      <td>[1]</td>\n",
       "      <td>honningsvag</td>\n",
       "      <td>100</td>\n",
       "      <td>NO</td>\n",
       "      <td>1665537239</td>\n",
       "      <td>71</td>\n",
       "      <td>70.9821</td>\n",
       "      <td>25.9704</td>\n",
       "      <td>46.15</td>\n",
       "      <td>13.80</td>\n",
       "    </tr>\n",
       "    <tr>\n",
       "      <th>2</th>\n",
       "      <td>[2]</td>\n",
       "      <td>punta arenas</td>\n",
       "      <td>75</td>\n",
       "      <td>CL</td>\n",
       "      <td>1665537155</td>\n",
       "      <td>81</td>\n",
       "      <td>-53.1500</td>\n",
       "      <td>-70.9167</td>\n",
       "      <td>39.31</td>\n",
       "      <td>18.41</td>\n",
       "    </tr>\n",
       "    <tr>\n",
       "      <th>3</th>\n",
       "      <td>[3]</td>\n",
       "      <td>salalah</td>\n",
       "      <td>0</td>\n",
       "      <td>OM</td>\n",
       "      <td>1665537240</td>\n",
       "      <td>49</td>\n",
       "      <td>17.0151</td>\n",
       "      <td>54.0924</td>\n",
       "      <td>73.49</td>\n",
       "      <td>2.30</td>\n",
       "    </tr>\n",
       "    <tr>\n",
       "      <th>4</th>\n",
       "      <td>[4]</td>\n",
       "      <td>qaanaaq</td>\n",
       "      <td>44</td>\n",
       "      <td>GL</td>\n",
       "      <td>1665537240</td>\n",
       "      <td>62</td>\n",
       "      <td>77.4840</td>\n",
       "      <td>-69.3632</td>\n",
       "      <td>5.79</td>\n",
       "      <td>7.85</td>\n",
       "    </tr>\n",
       "    <tr>\n",
       "      <th>...</th>\n",
       "      <td>...</td>\n",
       "      <td>...</td>\n",
       "      <td>...</td>\n",
       "      <td>...</td>\n",
       "      <td>...</td>\n",
       "      <td>...</td>\n",
       "      <td>...</td>\n",
       "      <td>...</td>\n",
       "      <td>...</td>\n",
       "      <td>...</td>\n",
       "    </tr>\n",
       "    <tr>\n",
       "      <th>576</th>\n",
       "      <td>[623]</td>\n",
       "      <td>mackenzie</td>\n",
       "      <td>13</td>\n",
       "      <td>CA</td>\n",
       "      <td>1665537309</td>\n",
       "      <td>50</td>\n",
       "      <td>55.2999</td>\n",
       "      <td>-123.1698</td>\n",
       "      <td>52.66</td>\n",
       "      <td>7.74</td>\n",
       "    </tr>\n",
       "    <tr>\n",
       "      <th>577</th>\n",
       "      <td>[624]</td>\n",
       "      <td>timmins</td>\n",
       "      <td>40</td>\n",
       "      <td>CA</td>\n",
       "      <td>1665537334</td>\n",
       "      <td>62</td>\n",
       "      <td>48.4669</td>\n",
       "      <td>-81.3331</td>\n",
       "      <td>55.22</td>\n",
       "      <td>9.22</td>\n",
       "    </tr>\n",
       "    <tr>\n",
       "      <th>578</th>\n",
       "      <td>[625]</td>\n",
       "      <td>maniitsoq</td>\n",
       "      <td>90</td>\n",
       "      <td>GL</td>\n",
       "      <td>1665537419</td>\n",
       "      <td>76</td>\n",
       "      <td>65.4167</td>\n",
       "      <td>-52.9000</td>\n",
       "      <td>28.62</td>\n",
       "      <td>9.55</td>\n",
       "    </tr>\n",
       "    <tr>\n",
       "      <th>579</th>\n",
       "      <td>[626]</td>\n",
       "      <td>jacqueville</td>\n",
       "      <td>93</td>\n",
       "      <td>CI</td>\n",
       "      <td>1665537420</td>\n",
       "      <td>86</td>\n",
       "      <td>5.2052</td>\n",
       "      <td>-4.4146</td>\n",
       "      <td>77.32</td>\n",
       "      <td>8.41</td>\n",
       "    </tr>\n",
       "    <tr>\n",
       "      <th>580</th>\n",
       "      <td>[627]</td>\n",
       "      <td>semporna</td>\n",
       "      <td>100</td>\n",
       "      <td>MY</td>\n",
       "      <td>1665537270</td>\n",
       "      <td>71</td>\n",
       "      <td>4.4818</td>\n",
       "      <td>118.6112</td>\n",
       "      <td>83.80</td>\n",
       "      <td>7.49</td>\n",
       "    </tr>\n",
       "  </tbody>\n",
       "</table>\n",
       "<p>581 rows × 10 columns</p>\n",
       "</div>"
      ],
      "text/plain": [
       "    City ID       City Name  Cloudiness Country        Date  Humidity  \\\n",
       "0       [0]  ribeira grande          91      PT  1665537239        89   \n",
       "1       [1]     honningsvag         100      NO  1665537239        71   \n",
       "2       [2]    punta arenas          75      CL  1665537155        81   \n",
       "3       [3]         salalah           0      OM  1665537240        49   \n",
       "4       [4]         qaanaaq          44      GL  1665537240        62   \n",
       "..      ...             ...         ...     ...         ...       ...   \n",
       "576   [623]       mackenzie          13      CA  1665537309        50   \n",
       "577   [624]         timmins          40      CA  1665537334        62   \n",
       "578   [625]       maniitsoq          90      GL  1665537419        76   \n",
       "579   [626]     jacqueville          93      CI  1665537420        86   \n",
       "580   [627]        semporna         100      MY  1665537270        71   \n",
       "\n",
       "     Latitiude  Longitude  Max Temp  Wind Speed  \n",
       "0      38.5167   -28.7000     69.78        1.99  \n",
       "1      70.9821    25.9704     46.15       13.80  \n",
       "2     -53.1500   -70.9167     39.31       18.41  \n",
       "3      17.0151    54.0924     73.49        2.30  \n",
       "4      77.4840   -69.3632      5.79        7.85  \n",
       "..         ...        ...       ...         ...  \n",
       "576    55.2999  -123.1698     52.66        7.74  \n",
       "577    48.4669   -81.3331     55.22        9.22  \n",
       "578    65.4167   -52.9000     28.62        9.55  \n",
       "579     5.2052    -4.4146     77.32        8.41  \n",
       "580     4.4818   118.6112     83.80        7.49  \n",
       "\n",
       "[581 rows x 10 columns]"
      ]
     },
     "execution_count": 4,
     "metadata": {},
     "output_type": "execute_result"
    }
   ],
   "source": [
    "weather_dict = {\n",
    "    \"City ID\":city_id,\n",
    "    \"City Name\" : city_name,\n",
    "    \"Cloudiness\" : cloudlines,\n",
    "    \"Country\" : country,\n",
    "    \"Date\" : date,\n",
    "    \"Humidity\" : humidity,\n",
    "    \"Latitiude\" : lat,\n",
    "    \"Longitude\" : long,\n",
    "    \"Max Temp\" : max_temp,\n",
    "    \"Wind Speed\" : wind_speed,\n",
    "}\n",
    "weather_data = pd.DataFrame(weather_dict)\n",
    "weather_data"
   ]
  },
  {
   "cell_type": "code",
   "execution_count": 5,
   "metadata": {},
   "outputs": [],
   "source": [
    "#with open('city_weather_data.csv', 'w') as \n",
    "weather_data.to_csv(\"cities.csv\") "
   ]
  },
  {
   "cell_type": "markdown",
   "metadata": {},
   "source": [
    "## Inspect the data and remove the cities where the humidity > 100%.\n",
    "----\n",
    "Skip this step if there are no cities that have humidity > 100%. "
   ]
  },
  {
   "cell_type": "code",
   "execution_count": 6,
   "metadata": {},
   "outputs": [
    {
     "name": "stdout",
     "output_type": "stream",
     "text": [
      "576\n"
     ]
    }
   ],
   "source": [
    "clean_city_data = weather_data[weather_data['Humidity'] < 100]\n",
    "print(len(clean_city_data))"
   ]
  },
  {
   "cell_type": "code",
   "execution_count": 7,
   "metadata": {},
   "outputs": [],
   "source": [
    "# Make a new DataFrame equal to the city data to drop all humidity outliers by index.\n",
    "# Passing \"inplace=False\" will make a copy of the city_data DataFrame, which we call \"clean_city_data\".\n"
   ]
  },
  {
   "cell_type": "markdown",
   "metadata": {},
   "source": [
    "## Plotting the Data\n",
    "* Use proper labeling of the plots using plot titles (including date of analysis) and axes labels.\n",
    "* Save the plotted figures as .pngs."
   ]
  },
  {
   "cell_type": "markdown",
   "metadata": {},
   "source": [
    "## Latitude vs. Temperature Plot"
   ]
  },
  {
   "cell_type": "code",
   "execution_count": 8,
   "metadata": {
    "scrolled": true
   },
   "outputs": [
    {
     "data": {
      "image/png": "[encoded data removed]",
      "text/plain": [
       "<Figure size 432x288 with 1 Axes>"
      ]
     },
     "metadata": {
      "needs_background": "light"
     },
     "output_type": "display_data"
    }
   ],
   "source": [
    "from datetime import datetime\n",
    "\n",
    "plt.scatter(clean_city_data[\"Latitiude\"],clean_city_data[\"Max Temp\"])\n",
    "plt.title(f\"Latitude vs Temperature {datetime.fromtimestamp(max(date)).strftime('%d-%m-%y')}\")\n",
    "plt.xlabel(\"Latitude\")\n",
    "plt.ylabel(\"Max Temp (F)\")\n",
    "plt.grid()"
   ]
  },
  {
   "cell_type": "markdown",
   "metadata": {},
   "source": [
    "# Here the code is analyzing the relationship between the latitude of each city and the maximum temperture"
   ]
  },
  {
   "cell_type": "markdown",
   "metadata": {},
   "source": [
    "## Latitude vs. Humidity Plot"
   ]
  },
  {
   "cell_type": "code",
   "execution_count": 9,
   "metadata": {},
   "outputs": [
    {
     "data": {
      "image/png": "[encoded data removed]",
      "text/plain": [
       "<Figure size 432x288 with 1 Axes>"
      ]
     },
     "metadata": {
      "needs_background": "light"
     },
     "output_type": "display_data"
    }
   ],
   "source": [
    "plt.scatter(clean_city_data[\"Latitiude\"],clean_city_data[\"Humidity\"])\n",
    "plt.title(f\"Latitude vs Humidity {datetime.fromtimestamp(max(date)).strftime('%d-%m-%y')}\")\n",
    "plt.xlabel(\"Latitude\")\n",
    "plt.ylabel(\"Humidity (%)\")\n",
    "plt.grid()"
   ]
  },
  {
   "cell_type": "markdown",
   "metadata": {},
   "source": [
    "# Here the code is analyzing the relationship between the latitude of each city and the humidity"
   ]
  },
  {
   "cell_type": "markdown",
   "metadata": {},
   "source": [
    "## Latitude vs. Cloudiness Plot"
   ]
  },
  {
   "cell_type": "code",
   "execution_count": 10,
   "metadata": {},
   "outputs": [
    {
     "data": {
      "image/png": "[encoded data removed]",
      "text/plain": [
       "<Figure size 432x288 with 1 Axes>"
      ]
     },
     "metadata": {
      "needs_background": "light"
     },
     "output_type": "display_data"
    }
   ],
   "source": [
    "plt.scatter(clean_city_data[\"Latitiude\"],clean_city_data[\"Cloudiness\"])\n",
    "plt.title(f\"Latitude vs Cloudiness {datetime.fromtimestamp(max(date)).strftime('%d-%m-%y')}\")\n",
    "plt.xlabel(\"Latitude\")\n",
    "plt.ylabel(\"Cloudiness (%)\")\n",
    "plt.grid()"
   ]
  },
  {
   "cell_type": "markdown",
   "metadata": {},
   "source": [
    "# Here the code is analyzing the relationship between the latitude of each city and the cloudiness"
   ]
  },
  {
   "cell_type": "markdown",
   "metadata": {},
   "source": [
    "## Latitude vs. Wind Speed Plot"
   ]
  },
  {
   "cell_type": "code",
   "execution_count": 11,
   "metadata": {},
   "outputs": [
    {
     "data": {
      "image/png": "[encoded data removed]",
      "text/plain": [
       "<Figure size 432x288 with 1 Axes>"
      ]
     },
     "metadata": {
      "needs_background": "light"
     },
     "output_type": "display_data"
    }
   ],
   "source": [
    "plt.scatter(clean_city_data[\"Latitiude\"],clean_city_data[\"Wind Speed\"])\n",
    "plt.title(f\"Latitude vs Wind Speed {datetime.fromtimestamp(max(date)).strftime('%d-%m-%y')}\")\n",
    "plt.xlabel(\"Latitude\")\n",
    "plt.ylabel(\"Wind Speed (Miles/Hour)\")\n",
    "plt.grid()"
   ]
  },
  {
   "cell_type": "markdown",
   "metadata": {},
   "source": [
    "# Here the code is analyzing the relationship between the latitude of each city and the wind speed"
   ]
  },
  {
   "cell_type": "markdown",
   "metadata": {},
   "source": [
    "## Linear Regression"
   ]
  },
  {
   "cell_type": "code",
   "execution_count": 12,
   "metadata": {},
   "outputs": [],
   "source": [
    "northern_hemi_data = clean_city_data[clean_city_data['Longitude'] >= 0]\n",
    "southern_hemi_data = clean_city_data[clean_city_data['Longitude'] < 0]"
   ]
  },
  {
   "cell_type": "markdown",
   "metadata": {},
   "source": [
    "####  Northern Hemisphere - Max Temp vs. Latitude Linear Regression"
   ]
  },
  {
   "cell_type": "code",
   "execution_count": 13,
   "metadata": {},
   "outputs": [
    {
     "data": {
      "text/plain": [
       "[<matplotlib.lines.Line2D at 0x2062cbb6460>,\n",
       " <matplotlib.lines.Line2D at 0x2062cbb6430>]"
      ]
     },
     "execution_count": 13,
     "metadata": {},
     "output_type": "execute_result"
    },
    {
     "data": {
      "image/png": "[encoded data removed]",
      "text/plain": [
       "<Figure size 432x288 with 1 Axes>"
      ]
     },
     "metadata": {
      "needs_background": "light"
     },
     "output_type": "display_data"
    }
   ],
   "source": [
    "plt.scatter(northern_hemi_data[\"Latitiude\"],northern_hemi_data[\"Max Temp\"])\n",
    "plt.title(f\"Latitude vs Temperature {datetime.fromtimestamp(max(date)).strftime('%d-%m-%y')}\")\n",
    "plt.xlabel(\"Latitude\")\n",
    "plt.ylabel(\"Max Temp (F)\")\n",
    "plt.grid()\n",
    "\n",
    "x = northern_hemi_data[\"Latitiude\"]\n",
    "y = northern_hemi_data[\"Max Temp\"]\n",
    "\n",
    "coef = np.polyfit(x,y,1)\n",
    "poly1d_fn = np.poly1d(coef) \n",
    "\n",
    "plt.plot(x,y, 'bo', x, poly1d_fn(x))"
   ]
  },
  {
   "cell_type": "markdown",
   "metadata": {},
   "source": [
    "####  Southern Hemisphere - Max Temp vs. Latitude Linear Regression"
   ]
  },
  {
   "cell_type": "code",
   "execution_count": 29,
   "metadata": {},
   "outputs": [
    {
     "data": {
      "text/plain": [
       "[<matplotlib.lines.Line2D at 0x2062e9653d0>,\n",
       " <matplotlib.lines.Line2D at 0x2062e9653a0>]"
      ]
     },
     "execution_count": 29,
     "metadata": {},
     "output_type": "execute_result"
    },
    {
     "data": {
      "image/png": "[encoded data removed]",
      "text/plain": [
       "<Figure size 432x288 with 1 Axes>"
      ]
     },
     "metadata": {
      "needs_background": "light"
     },
     "output_type": "display_data"
    }
   ],
   "source": [
    "plt.scatter(southern_hemi_data[\"Latitiude\"],southern_hemi_data[\"Max Temp\"])\n",
    "plt.title(f\"Latitude vs Temperature {datetime.fromtimestamp(max(date)).strftime('%d-%m-%y')}\")\n",
    "plt.xlabel(\"Latitude\")\n",
    "plt.ylabel(\"Max Temp (F)\")\n",
    "plt.grid()\n",
    "\n",
    "x = southern_hemi_data[\"Latitiude\"]\n",
    "y = southern_hemi_data[\"Max Temp\"]\n",
    "\n",
    "coef = np.polyfit(x,y,1)\n",
    "poly1d_fn = np.poly1d(coef) \n",
    "\n",
    "plt.plot(x,y, 'bo', x, poly1d_fn(x))"
   ]
  },
  {
   "cell_type": "markdown",
   "metadata": {},
   "source": [
    "####  Northern Hemisphere - Humidity (%) vs. Latitude Linear Regression"
   ]
  },
  {
   "cell_type": "code",
   "execution_count": 30,
   "metadata": {},
   "outputs": [
    {
     "data": {
      "text/plain": [
       "[<matplotlib.lines.Line2D at 0x2062cb2c9d0>,\n",
       " <matplotlib.lines.Line2D at 0x2062cb6a220>]"
      ]
     },
     "execution_count": 30,
     "metadata": {},
     "output_type": "execute_result"
    },
    {
     "data": {
      "image/png": "[encoded data removed]",
      "text/plain": [
       "<Figure size 432x288 with 1 Axes>"
      ]
     },
     "metadata": {
      "needs_background": "light"
     },
     "output_type": "display_data"
    }
   ],
   "source": [
    "plt.scatter(northern_hemi_data[\"Latitiude\"],northern_hemi_data[\"Humidity\"])\n",
    "plt.title(f\"Latitude vs Humidity {datetime.fromtimestamp(max(date)).strftime('%d-%m-%y')}\")\n",
    "plt.xlabel(\"Latitude\")\n",
    "plt.ylabel(\"Humidity (%)\")\n",
    "plt.grid()\n",
    "\n",
    "x = northern_hemi_data[\"Latitiude\"]\n",
    "y = northern_hemi_data[\"Humidity\"]\n",
    "\n",
    "coef = np.polyfit(x,y,1)\n",
    "poly1d_fn = np.poly1d(coef) \n",
    "\n",
    "plt.plot(x,y, 'bo', x, poly1d_fn(x))"
   ]
  },
  {
   "cell_type": "markdown",
   "metadata": {},
   "source": [
    "####  Southern Hemisphere - Humidity (%) vs. Latitude Linear Regression"
   ]
  },
  {
   "cell_type": "code",
   "execution_count": 31,
   "metadata": {},
   "outputs": [
    {
     "data": {
      "text/plain": [
       "[<matplotlib.lines.Line2D at 0x2062ca7ea00>,\n",
       " <matplotlib.lines.Line2D at 0x2062ca7e130>]"
      ]
     },
     "execution_count": 31,
     "metadata": {},
     "output_type": "execute_result"
    },
    {
     "data": {
      "image/png": "[encoded data removed]",
      "text/plain": [
       "<Figure size 432x288 with 1 Axes>"
      ]
     },
     "metadata": {
      "needs_background": "light"
     },
     "output_type": "display_data"
    }
   ],
   "source": [
    "plt.scatter(southern_hemi_data[\"Latitiude\"],southern_hemi_data[\"Humidity\"])\n",
    "plt.title(f\"Latitude vs Humidity {datetime.fromtimestamp(max(date)).strftime('%d-%m-%y')}\")\n",
    "plt.xlabel(\"Latitude\")\n",
    "plt.ylabel(\"Humidity (%)\")\n",
    "plt.grid()\n",
    "\n",
    "x = southern_hemi_data[\"Latitiude\"]\n",
    "y = southern_hemi_data[\"Humidity\"]\n",
    "\n",
    "coef = np.polyfit(x,y,1)\n",
    "poly1d_fn = np.poly1d(coef) \n",
    "\n",
    "plt.plot(x,y, 'bo', x, poly1d_fn(x))"
   ]
  },
  {
   "cell_type": "markdown",
   "metadata": {},
   "source": [
    "####  Northern Hemisphere - Cloudiness (%) vs. Latitude Linear Regression"
   ]
  },
  {
   "cell_type": "code",
   "execution_count": 32,
   "metadata": {},
   "outputs": [
    {
     "data": {
      "text/plain": [
       "[<matplotlib.lines.Line2D at 0x2062ca20b20>,\n",
       " <matplotlib.lines.Line2D at 0x2062ca20a30>]"
      ]
     },
     "execution_count": 32,
     "metadata": {},
     "output_type": "execute_result"
    },
    {
     "data": {
      "image/png": "[encoded data removed]",
      "text/plain": [
       "<Figure size 432x288 with 1 Axes>"
      ]
     },
     "metadata": {
      "needs_background": "light"
     },
     "output_type": "display_data"
    }
   ],
   "source": [
    "plt.scatter(northern_hemi_data[\"Latitiude\"],northern_hemi_data[\"Cloudiness\"])\n",
    "plt.title(f\"Latitude vs Cloudiness {datetime.fromtimestamp(max(date)).strftime('%d-%m-%y')}\")\n",
    "plt.xlabel(\"Latitude\")\n",
    "plt.ylabel(\"Cloudiness (%)\")\n",
    "plt.grid()\n",
    "\n",
    "x = northern_hemi_data[\"Latitiude\"]\n",
    "y = northern_hemi_data[\"Cloudiness\"]\n",
    "\n",
    "coef = np.polyfit(x,y,1)\n",
    "poly1d_fn = np.poly1d(coef) \n",
    "\n",
    "plt.plot(x,y, 'bo', x, poly1d_fn(x))"
   ]
  },
  {
   "cell_type": "markdown",
   "metadata": {},
   "source": [
    "####  Southern Hemisphere - Cloudiness (%) vs. Latitude Linear Regression"
   ]
  },
  {
   "cell_type": "code",
   "execution_count": 33,
   "metadata": {},
   "outputs": [
    {
     "data": {
      "text/plain": [
       "[<matplotlib.lines.Line2D at 0x2062cb1daf0>,\n",
       " <matplotlib.lines.Line2D at 0x2062cb1df70>]"
      ]
     },
     "execution_count": 33,
     "metadata": {},
     "output_type": "execute_result"
    },
    {
     "data": {
      "image/png": "[encoded data removed]",
      "text/plain": [
       "<Figure size 432x288 with 1 Axes>"
      ]
     },
     "metadata": {
      "needs_background": "light"
     },
     "output_type": "display_data"
    }
   ],
   "source": [
    "plt.scatter(southern_hemi_data[\"Latitiude\"],southern_hemi_data[\"Cloudiness\"])\n",
    "plt.title(f\"Latitude vs Cloudiness {datetime.fromtimestamp(max(date)).strftime('%d-%m-%y')}\")\n",
    "plt.xlabel(\"Latitude\")\n",
    "plt.ylabel(\"Cloudiness (%)\")\n",
    "plt.grid()\n",
    "\n",
    "x = southern_hemi_data[\"Latitiude\"]\n",
    "y = southern_hemi_data[\"Cloudiness\"]\n",
    "\n",
    "coef = np.polyfit(x,y,1)\n",
    "poly1d_fn = np.poly1d(coef) \n",
    "\n",
    "plt.plot(x,y, 'bo', x, poly1d_fn(x))"
   ]
  },
  {
   "cell_type": "markdown",
   "metadata": {},
   "source": [
    "####  Northern Hemisphere - Wind Speed (mph) vs. Latitude Linear Regression"
   ]
  },
  {
   "cell_type": "code",
   "execution_count": 34,
   "metadata": {},
   "outputs": [
    {
     "data": {
      "text/plain": [
       "[<matplotlib.lines.Line2D at 0x2062e9ca310>,\n",
       " <matplotlib.lines.Line2D at 0x2062e9ca2e0>]"
      ]
     },
     "execution_count": 34,
     "metadata": {},
     "output_type": "execute_result"
    },
    {
     "data": {
      "image/png": "[encoded data removed]",
      "text/plain": [
       "<Figure size 432x288 with 1 Axes>"
      ]
     },
     "metadata": {
      "needs_background": "light"
     },
     "output_type": "display_data"
    }
   ],
   "source": [
    "plt.scatter(northern_hemi_data[\"Latitiude\"],northern_hemi_data[\"Wind Speed\"])\n",
    "plt.title(f\"Latitude vs Wind Speed {datetime.fromtimestamp(max(date)).strftime('%d-%m-%y')}\")\n",
    "plt.xlabel(\"Latitude\")\n",
    "plt.ylabel(\"Wind Speed (mph)\")\n",
    "plt.grid()\n",
    "\n",
    "x = northern_hemi_data[\"Latitiude\"]\n",
    "y = northern_hemi_data[\"Wind Speed\"]\n",
    "\n",
    "coef = np.polyfit(x,y,1)\n",
    "poly1d_fn = np.poly1d(coef) \n",
    "\n",
    "plt.plot(x,y, 'bo', x, poly1d_fn(x))"
   ]
  },
  {
   "cell_type": "markdown",
   "metadata": {},
   "source": [
    "####  Southern Hemisphere - Wind Speed (mph) vs. Latitude Linear Regression"
   ]
  },
  {
   "cell_type": "code",
   "execution_count": 35,
   "metadata": {},
   "outputs": [
    {
     "data": {
      "text/plain": [
       "[<matplotlib.lines.Line2D at 0x2062ea40880>,\n",
       " <matplotlib.lines.Line2D at 0x2062ea40850>]"
      ]
     },
     "execution_count": 35,
     "metadata": {},
     "output_type": "execute_result"
    },
    {
     "data": {
      "image/png": "[encoded data removed]",
      "text/plain": [
       "<Figure size 432x288 with 1 Axes>"
      ]
     },
     "metadata": {
      "needs_background": "light"
     },
     "output_type": "display_data"
    }
   ],
   "source": [
    "plt.scatter(southern_hemi_data[\"Latitiude\"],southern_hemi_data[\"Wind Speed\"])\n",
    "plt.title(f\"Latitude vs Wind Speed {datetime.fromtimestamp(max(date)).strftime('%d-%m-%y')}\")\n",
    "plt.xlabel(\"Latitude\")\n",
    "plt.ylabel(\"Wind Speed (mph)\")\n",
    "plt.grid()\n",
    "\n",
    "x = southern_hemi_data[\"Latitiude\"]\n",
    "y = southern_hemi_data[\"Wind Speed\"]\n",
    "\n",
    "coef = np.polyfit(x,y,1)\n",
    "poly1d_fn = np.poly1d(coef) \n",
    "\n",
    "plt.plot(x,y, 'bo', x, poly1d_fn(x))"
   ]
  },
  {
   "cell_type": "code",
   "execution_count": null,
   "metadata": {},
   "outputs": [],
   "source": []
  }
 ],
 "metadata": {
  "anaconda-cloud": {},
  "kernel_info": {
   "name": "python3"
  },
  "kernelspec": {
   "display_name": "Python 3.9.7 ('base')",
   "language": "python",
   "name": "python3"
  },
  "language_info": {
   "codemirror_mode": {
    "name": "ipython",
    "version": 3
   },
   "file_extension": ".py",
   "mimetype": "text/x-python",
   "name": "python",
   "nbconvert_exporter": "python",
   "pygments_lexer": "ipython3",
   "version": "3.9.7"
  },
  "latex_envs": {
   "LaTeX_envs_menu_present": true,
   "autoclose": false,
   "autocomplete": true,
   "bibliofile": "biblio.bib",
   "cite_by": "apalike",
   "current_citInitial": 1,
   "eqLabelWithNumbers": true,
   "eqNumInitial": 1,
   "hotkeys": {
    "equation": "Ctrl-E",
    "itemize": "Ctrl-I"
   },
   "labels_anchors": false,
   "latex_user_defs": false,
   "report_style_numbering": false,
   "user_envs_cfg": false
  },
  "nteract": {
   "version": "0.12.3"
  },
  "vscode": {
   "interpreter": {
    "hash": "34c67e8af8d6d08139dc7baa7182b3b866a978042d5934b1571eea78e1d74667"
   }
  }
 },
 "nbformat": 4,
 "nbformat_minor": 2
}
