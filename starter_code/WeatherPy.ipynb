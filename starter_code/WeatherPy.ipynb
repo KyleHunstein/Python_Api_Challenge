{
 "cells": [
  {
   "cell_type": "markdown",
   "metadata": {},
   "source": [
    "# WeatherPy\n",
    "----\n",
    "\n",
    "#### Note\n",
    "* Instructions have been included for each segment. You do not have to follow them exactly, but they are included to help you think through the steps."
   ]
  },
  {
   "cell_type": "code",
   "execution_count": 2,
   "metadata": {
    "scrolled": true
   },
   "outputs": [],
   "source": [
    "# Dependencies and Setup\n",
    "import matplotlib.pyplot as plt\n",
    "import pandas as pd\n",
    "import numpy as np\n",
    "import requests\n",
    "import time\n",
    "from scipy.stats import linregress\n",
    "from pprint import pprint\n",
    "import datetime\n",
    "\n",
    "# Import API key\n",
    "from api_keys import weather_api_key\n",
    "\n",
    "# Incorporated citipy to determine city based on latitude and longitude\n",
    "from citipy import citipy\n",
    "\n",
    "# Output File (CSV)\n",
    "output_data_file = \"output_data/cities.csv\"\n",
    "\n",
    "# Range of latitudes and longitudes\n",
    "lat_range = (-90, 90)\n",
    "lng_range = (-180, 180)"
   ]
  },
  {
   "cell_type": "markdown",
   "metadata": {},
   "source": [
    "## Generate Cities List"
   ]
  },
  {
   "cell_type": "code",
   "execution_count": 3,
   "metadata": {},
   "outputs": [
    {
     "name": "stdout",
     "output_type": "stream",
     "text": [
      "635\n"
     ]
    }
   ],
   "source": [
    "# List for holding lat_lngs and cities\n",
    "lat_lngs = []\n",
    "cities = []\n",
    "\n",
    "# Create a set of random lat and lng combinations\n",
    "lats = np.random.uniform(lat_range[0], lat_range[1], size=1500)\n",
    "lngs = np.random.uniform(lng_range[0], lng_range[1], size=1500)\n",
    "lat_lngs = zip(lats, lngs)\n",
    "\n",
    "# Identify nearest city for each lat, lng combination\n",
    "for lat_lng in lat_lngs:\n",
    "    city = citipy.nearest_city(lat_lng[0], lat_lng[1]).city_name\n",
    "    \n",
    "    # If the city is unique, then add it to a our cities list\n",
    "    if city not in cities:\n",
    "        cities.append(city)\n",
    "\n",
    "# Print the city count to confirm sufficient count\n",
    "print(len(cities))"
   ]
  },
  {
   "cell_type": "markdown",
   "metadata": {},
   "source": [
    "### Perform API Calls\n",
    "* Perform a weather check on each city using a series of successive API calls.\n",
    "* Include a print log of each city as it'sbeing processed (with the city number and city name).\n"
   ]
  },
  {
   "cell_type": "code",
   "execution_count": 4,
   "metadata": {
    "scrolled": true
   },
   "outputs": [
    {
     "name": "stdout",
     "output_type": "stream",
     "text": [
      "City 0 Not Found\n",
      "City 1 : provideniya\n",
      "City 2 : cherskiy\n",
      "City 3 Not Found\n",
      "City 4 : hobart\n",
      "City 5 : jalu\n",
      "City 6 : ushuaia\n",
      "City 7 : busselton\n",
      "City 8 : atuona\n",
      "City 9 : payo\n",
      "City 10 : makakilo city\n",
      "City 11 : severo-kurilsk\n",
      "City 12 : georgetown\n",
      "City 13 : mandalgovi\n",
      "City 14 : hafizabad\n",
      "City 15 : kodiak\n",
      "City 16 : jamestown\n",
      "City 17 : teguise\n",
      "City 18 : fortuna\n",
      "City 19 : mount gambier\n",
      "City 20 : arona\n",
      "City 21 : upernavik\n",
      "City 22 : tilichiki\n",
      "City 23 : matagami\n",
      "City 24 : fort nelson\n",
      "City 25 : curumani\n",
      "City 26 : yellowknife\n",
      "City 27 : nadym\n",
      "City 28 : bambous virieux\n",
      "City 29 : tezpur\n",
      "City 30 : tiksi\n",
      "City 31 : baghdad\n",
      "City 32 : albany\n",
      "City 33 : vaini\n",
      "City 34 : tuktoyaktuk\n",
      "City 35 : saldanha\n",
      "City 36 : mackenzie\n",
      "City 37 : bredasdorp\n",
      "City 38 Not Found\n",
      "City 39 : saskylakh\n",
      "City 40 : tasiilaq\n",
      "City 41 : fortuna foothills\n",
      "City 42 : rikitea\n",
      "City 43 : zhezkazgan\n",
      "City 44 : east london\n",
      "City 45 : chokurdakh\n",
      "City 46 Not Found\n",
      "City 47 : ca mau\n",
      "City 48 : smithers\n",
      "City 49 : qaanaaq\n",
      "City 50 : new norfolk\n",
      "City 51 : baykit\n",
      "City 52 : mataura\n",
      "City 53 : kibala\n",
      "City 54 : hasaki\n",
      "City 55 : port alfred\n",
      "City 56 : nanortalik\n",
      "City 57 : praia da vitoria\n",
      "City 58 : tingi\n",
      "City 59 : thompson\n",
      "City 60 : tuatapere\n",
      "City 61 : tomatlan\n",
      "City 62 : manokwari\n",
      "City 63 : vila velha\n",
      "City 64 : dikson\n",
      "City 65 : henties bay\n",
      "City 66 : mar del plata\n",
      "City 67 : nome\n",
      "City 68 : coos bay\n",
      "City 69 : cordeiro\n",
      "City 70 : sault sainte marie\n",
      "City 71 : luderitz\n",
      "City 72 Not Found\n",
      "City 73 : lompoc\n",
      "City 74 : grand gaube\n",
      "City 75 : kieta\n",
      "City 76 : aberdeen\n",
      "City 77 : mahebourg\n",
      "City 78 : kaitangata\n",
      "City 79 : saint-philippe\n",
      "City 80 Not Found\n",
      "City 81 : portland\n",
      "City 82 : santa isabel do rio negro\n",
      "City 83 : labuhan\n",
      "City 84 : elizabeth city\n",
      "City 85 : sovetskiy\n",
      "City 86 : bengkulu\n",
      "City 87 : windhoek\n",
      "City 88 : salalah\n",
      "City 89 : konevo\n",
      "City 90 : carnarvon\n",
      "City 91 Not Found\n",
      "City 92 : khasan\n",
      "City 93 : lavrentiya\n",
      "City 94 : chuy\n",
      "City 95 : poum\n",
      "City 96 : belozerskoye\n",
      "City 97 : tessalit\n",
      "City 98 : bethel\n",
      "City 99 : damghan\n",
      "City 100 Not Found\n",
      "City 101 : sarangani\n",
      "City 102 : dzhebariki-khaya\n",
      "City 103 : butaritari\n",
      "City 104 : atikokan\n",
      "City 105 Not Found\n",
      "City 106 : sabha\n",
      "City 107 : punta arenas\n",
      "City 108 : neyvo-shaytanskiy\n",
      "City 109 : beringovskiy\n",
      "City 110 : barrow\n",
      "City 111 : dubbo\n",
      "City 112 Not Found\n",
      "City 113 : hofn\n",
      "City 114 : leh\n",
      "City 115 : gamba\n",
      "City 116 : sao joao da barra\n",
      "City 117 : tevaitoa\n",
      "City 118 : russell\n",
      "City 119 : auki\n",
      "City 120 : sao filipe\n",
      "City 121 : jumla\n",
      "City 122 : ribeira grande\n",
      "City 123 : dzilam gonzalez\n",
      "City 124 : comodoro rivadavia\n",
      "City 125 : otane\n",
      "City 126 : mato verde\n",
      "City 127 : ust-ilimsk\n",
      "City 128 Not Found\n",
      "City 129 Not Found\n",
      "City 130 : nara\n",
      "City 131 : moose factory\n",
      "City 132 : tibati\n",
      "City 133 : norman wells\n",
      "City 134 : wladyslawowo\n",
      "City 135 : monroe\n",
      "City 136 : tsiroanomandidy\n",
      "City 137 : beaumont\n",
      "City 138 : kahului\n",
      "City 139 : cockburn town\n",
      "City 140 Not Found\n",
      "City 141 : ternate\n",
      "City 142 : bluff\n",
      "City 143 : severnoye\n",
      "City 144 : matamoros\n",
      "City 145 : gat\n",
      "City 146 : san quintin\n",
      "City 147 : kapaa\n",
      "City 148 : hilo\n",
      "City 149 : puerto ayora\n",
      "City 150 : longyearbyen\n",
      "City 151 : namatanai\n",
      "City 152 : bandarbeyla\n",
      "City 153 : kenai\n",
      "City 154 : manaure\n",
      "City 155 : mehamn\n",
      "City 156 : svetlyy\n",
      "City 157 : mercedes\n",
      "City 158 : ilulissat\n",
      "City 159 Not Found\n",
      "City 160 : maracacume\n",
      "City 161 : shache\n",
      "City 162 : ballina\n",
      "City 163 : kibara\n",
      "City 164 : mayo\n",
      "City 165 Not Found\n",
      "City 166 : codrington\n",
      "City 167 : hermanus\n",
      "City 168 : blind river\n",
      "City 169 Not Found\n",
      "City 170 : kavieng\n",
      "City 171 : nikolskoye\n",
      "City 172 : maldonado\n",
      "City 173 : cape town\n",
      "City 174 : aden\n",
      "City 175 : road town\n",
      "City 176 : avarua\n",
      "City 177 Not Found\n",
      "City 178 : fairbanks\n",
      "City 179 : sitka\n",
      "City 180 : lebu\n",
      "City 181 Not Found\n",
      "City 182 : jian\n",
      "City 183 : port augusta\n",
      "City 184 : iqaluit\n",
      "City 185 : marzuq\n",
      "City 186 : victoria\n",
      "City 187 : dandong\n",
      "City 188 : wilmington island\n",
      "City 189 : mikhaylovka\n",
      "City 190 : lyuban\n",
      "City 191 : arraial do cabo\n",
      "City 192 Not Found\n",
      "City 193 : dwarka\n",
      "City 194 : zaraza\n",
      "City 195 : vostok\n",
      "City 196 : krasnoselkup\n",
      "City 197 : huarmey\n",
      "City 198 : pangnirtung\n",
      "City 199 : manali\n",
      "City 200 : pangody\n",
      "City 201 : maniitsoq\n",
      "City 202 : castro\n",
      "City 203 : zdvinsk\n",
      "City 204 : yongan\n",
      "City 205 : koindu\n",
      "City 206 : port blair\n",
      "City 207 : constitucion\n",
      "City 208 : puerto del rosario\n",
      "City 209 : odesskoye\n",
      "City 210 : nautla\n",
      "City 211 : kawalu\n",
      "City 212 : batagay\n",
      "City 213 : gimli\n",
      "City 214 : havelock\n",
      "City 215 : tommot\n",
      "City 216 : gua musang\n",
      "City 217 : cayenne\n",
      "City 218 : igaci\n",
      "City 219 : pangai\n",
      "City 220 Not Found\n",
      "City 221 : domodossola\n",
      "City 222 : bilma\n",
      "City 223 Not Found\n",
      "City 224 : cidreira\n",
      "City 225 : gazanjyk\n",
      "City 226 : jacareacanga\n",
      "City 227 : ponta do sol\n",
      "City 228 : derazhnya\n",
      "City 229 : kitgum\n",
      "City 230 : katsuura\n",
      "City 231 : sechura\n",
      "City 232 Not Found\n",
      "City 233 : te anau\n",
      "City 234 : mosetse\n",
      "City 235 : bodden town\n",
      "City 236 : maceio\n",
      "City 237 : vygonichi\n",
      "City 238 : cabo san lucas\n",
      "City 239 : khatanga\n",
      "City 240 : tirau\n",
      "City 241 : shabqadar\n",
      "City 242 : hithadhoo\n",
      "City 243 Not Found\n",
      "City 244 : praia\n",
      "City 245 : maibong\n",
      "City 246 : sibolga\n",
      "City 247 : pevek\n",
      "City 248 : kampene\n",
      "City 249 : assiniboia\n",
      "City 250 Not Found\n",
      "City 251 : saint george\n",
      "City 252 : richards bay\n",
      "City 253 : ketchikan\n",
      "City 254 : husavik\n",
      "City 255 : thanh hoa\n",
      "City 256 : ola\n",
      "City 257 : kysyl-syr\n",
      "City 258 : krasnorechenskiy\n",
      "City 259 : petropavlovsk-kamchatskiy\n",
      "City 260 : nola\n",
      "City 261 : quatre cocos\n",
      "City 262 : geraldton\n",
      "City 263 : lisala\n",
      "City 264 : saint-pierre\n",
      "City 265 Not Found\n",
      "City 266 : karasjok\n",
      "City 267 : quang ngai\n",
      "City 268 : vila franca do campo\n",
      "City 269 : flinders\n",
      "City 270 : vardo\n",
      "City 271 Not Found\n",
      "City 272 : olinala\n",
      "City 273 : teahupoo\n",
      "City 274 : imeni morozova\n",
      "City 275 : bulawayo\n",
      "City 276 : rach gia\n",
      "City 277 : umm kaddadah\n",
      "City 278 : tura\n",
      "City 279 : talnakh\n",
      "City 280 : yulara\n",
      "City 281 : surt\n",
      "City 282 : vilhena\n",
      "City 283 : esperance\n",
      "City 284 : el alto\n",
      "City 285 : tettnang\n",
      "City 286 : narsaq\n",
      "City 287 Not Found\n",
      "City 288 : puerto escondido\n",
      "City 289 : caravelas\n",
      "City 290 : worland\n",
      "City 291 : corbu\n",
      "City 292 : port jervis\n",
      "City 293 : elliot\n",
      "City 294 : half moon bay\n",
      "City 295 : plettenberg bay\n",
      "City 296 : queenstown\n",
      "City 297 : manzhouli\n",
      "City 298 : freetown\n",
      "City 299 : masvingo\n",
      "City 300 : rincon\n",
      "City 301 : port hardy\n",
      "City 302 Not Found\n",
      "City 303 : bowen\n",
      "City 304 : tenkasi\n",
      "City 305 : buala\n",
      "City 306 : sisimiut\n",
      "City 307 : pyay\n",
      "City 308 : palpa\n",
      "City 309 : sompeta\n",
      "City 310 : safaga\n",
      "City 311 : bubaque\n",
      "City 312 : saint-francois\n",
      "City 313 : port elizabeth\n",
      "City 314 : neiafu\n",
      "City 315 : mashivka\n",
      "City 316 : chimbote\n",
      "City 317 : siguiri\n",
      "City 318 : santa marinella\n",
      "City 319 : millinocket\n",
      "City 320 : lufilufi\n",
      "City 321 : isilkul\n",
      "City 322 : najran\n",
      "City 323 : namibe\n",
      "City 324 Not Found\n",
      "City 325 : college\n",
      "City 326 Not Found\n",
      "City 327 : pisco\n",
      "City 328 : chapais\n",
      "City 329 : manggar\n",
      "City 330 : broome\n",
      "City 331 : northam\n",
      "City 332 Not Found\n",
      "City 333 : wamba\n",
      "City 334 : asyut\n",
      "City 335 Not Found\n",
      "City 336 : san rafael\n",
      "City 337 : san angelo\n",
      "City 338 : redlands\n",
      "City 339 : melfort\n",
      "City 340 : pierre\n",
      "City 341 : kristianstad\n",
      "City 342 : ostrovnoy\n",
      "City 343 : yerbogachen\n",
      "City 344 Not Found\n",
      "City 345 : dauriya\n",
      "City 346 : tairua\n",
      "City 347 : tuyen quang\n",
      "City 348 : iquique\n",
      "City 349 : los llanos de aridane\n",
      "City 350 : dingle\n",
      "City 351 : watertown\n",
      "City 352 : aklavik\n",
      "City 353 : rajapur\n",
      "City 354 : tournai\n",
      "City 355 : posadas\n",
      "City 356 : tabuk\n",
      "City 357 : khandyga\n",
      "City 358 : topeka\n",
      "City 359 : naze\n",
      "City 360 : khilok\n",
      "City 361 : guerrero negro\n",
      "City 362 Not Found\n",
      "City 363 : andenes\n",
      "City 364 : abdanan\n",
      "City 365 : klaksvik\n",
      "City 366 Not Found\n",
      "City 367 Not Found\n",
      "City 368 : tolaga bay\n",
      "City 369 Not Found\n",
      "City 370 : vallenar\n",
      "City 371 : margate\n",
      "City 372 : cacoal\n",
      "City 373 : rio pardo de minas\n",
      "City 374 : polunochnoye\n",
      "City 375 : novo aripuana\n",
      "City 376 : colares\n",
      "City 377 : saint-augustin\n",
      "City 378 : pathein\n",
      "City 379 : kulhudhuffushi\n",
      "City 380 : faanui\n",
      "City 381 : souillac\n",
      "City 382 : maningrida\n",
      "City 383 : batagay-alyta\n",
      "City 384 : ahuimanu\n",
      "City 385 : begoro\n",
      "City 386 : karabash\n",
      "City 387 : lima\n",
      "City 388 : taoudenni\n",
      "City 389 : potosi\n",
      "City 390 : tongliao\n",
      "City 391 : rawson\n",
      "City 392 : samarai\n",
      "City 393 : aswan\n",
      "City 394 Not Found\n",
      "City 395 : strezhevoy\n",
      "City 396 : markovo\n",
      "City 397 : san cristobal\n",
      "City 398 : mmathubudukwane\n",
      "City 399 : usinsk\n",
      "City 400 : aksay\n",
      "City 401 Not Found\n",
      "City 402 Not Found\n",
      "City 403 : karabudakhkent\n",
      "City 404 : chumikan\n",
      "City 405 : cururupu\n",
      "City 406 Not Found\n",
      "City 407 : pabrade\n",
      "City 408 : ugep\n",
      "City 409 : harindanga\n",
      "City 410 : maridi\n",
      "City 411 : padang\n",
      "City 412 : kargasok\n",
      "City 413 : mumbwa\n",
      "City 414 : dessalines\n",
      "City 415 : lagoa\n",
      "City 416 : kemijarvi\n",
      "City 417 : bonthe\n",
      "City 418 : chara\n",
      "City 419 : lata\n",
      "City 420 : bagdarin\n",
      "City 421 : lucapa\n",
      "City 422 : port lincoln\n",
      "City 423 : peniche\n",
      "City 424 Not Found\n",
      "City 425 : qingdao\n",
      "City 426 : morehead\n",
      "City 427 : touros\n",
      "City 428 : tautira\n",
      "City 429 : great falls\n",
      "City 430 : lebedinyy\n",
      "City 431 : trail\n",
      "City 432 : san jose\n",
      "City 433 : sabla\n",
      "City 434 : brae\n",
      "City 435 : lapithos\n",
      "City 436 : mabaruma\n",
      "City 437 : narsipatnam\n",
      "City 438 : namie\n",
      "City 439 : torbay\n",
      "City 440 : maltrata\n",
      "City 441 : cravo norte\n",
      "City 442 : jinxiang\n",
      "City 443 : wairoa\n",
      "City 444 : alofi\n",
      "City 445 : loa janan\n",
      "City 446 : lubango\n",
      "City 447 : deer lake\n",
      "City 448 : cabedelo\n",
      "City 449 : vestmanna\n",
      "City 450 : ust-kut\n",
      "City 451 Not Found\n",
      "City 452 : kaspiysk\n",
      "City 453 : nuing\n",
      "City 454 Not Found\n",
      "City 455 : simao\n",
      "City 456 : tukrah\n",
      "City 457 : kudat\n",
      "City 458 : lukovetskiy\n",
      "City 459 : finale ligure\n",
      "City 460 : eureka\n",
      "City 461 : acarau\n",
      "City 462 : guarapari\n",
      "City 463 : ulladulla\n",
      "City 464 : kirakira\n",
      "City 465 : deputatskiy\n",
      "City 466 : moron\n",
      "City 467 : chuncheng\n",
      "City 468 : kanniyakumari\n",
      "City 469 : omboue\n",
      "City 470 : camacha\n",
      "City 471 Not Found\n",
      "City 472 : ambilobe\n",
      "City 473 : komsomolskiy\n",
      "City 474 Not Found\n",
      "City 475 : nanakuli\n",
      "City 476 : whitianga\n",
      "City 477 : marsberg\n",
      "City 478 : yar-sale\n",
      "City 479 : mareeba\n",
      "City 480 : vila praia de ancora\n",
      "City 481 : vilyuysk\n",
      "City 482 : yecuatla\n",
      "City 483 : umea\n",
      "City 484 : la libertad\n",
      "City 485 : hiriyur\n",
      "City 486 Not Found\n",
      "City 487 : langham\n",
      "City 488 : marystown\n",
      "City 489 : roald\n",
      "City 490 : turukhansk\n",
      "City 491 : mackay\n",
      "City 492 : kerema\n",
      "City 493 : kawanoe\n",
      "City 494 : dalvik\n",
      "City 495 : baie-comeau\n",
      "City 496 : anadyr\n",
      "City 497 : clyde river\n",
      "City 498 : avera\n",
      "City 499 : caucaia\n",
      "City 500 : coihaique\n",
      "City 501 : chilca\n",
      "City 502 : hami\n",
      "City 503 : bystryy istok\n",
      "City 504 : oistins\n",
      "City 505 Not Found\n",
      "City 506 Not Found\n",
      "City 507 : port macquarie\n",
      "City 508 : jizan\n",
      "City 509 : leningradskiy\n",
      "City 510 : puri\n",
      "City 511 : houston\n",
      "City 512 : marshall\n",
      "City 513 : ormara\n",
      "City 514 : dhidhdhoo\n",
      "City 515 : matay\n",
      "City 516 : preobrazheniye\n",
      "City 517 : rio grande\n",
      "City 518 : stirling\n",
      "City 519 : boende\n",
      "City 520 : kruisfontein\n",
      "City 521 : imbituba\n",
      "City 522 : actopan\n",
      "City 523 : uvinza\n",
      "City 524 : axim\n",
      "City 525 : singkang\n",
      "City 526 : north mankato\n",
      "City 527 : yeppoon\n",
      "City 528 : vila\n",
      "City 529 : zhangye\n",
      "City 530 : otautau\n",
      "City 531 : gusau\n",
      "City 532 : siverek\n",
      "City 533 : three hills\n",
      "City 534 : ixtapa\n",
      "City 535 : mahibadhoo\n",
      "City 536 : dzhuryn\n",
      "City 537 : kaili\n",
      "City 538 : carira\n",
      "City 539 : bajil\n",
      "City 540 : udachnyy\n",
      "City 541 : surgut\n",
      "City 542 : rasipuram\n",
      "City 543 : amahai\n",
      "City 544 : atakpame\n",
      "City 545 : grindavik\n",
      "City 546 : puerto el triunfo\n",
      "City 547 : zhigansk\n",
      "City 548 : martapura\n",
      "City 549 : luanda\n",
      "City 550 : caraballeda\n",
      "City 551 : saint anthony\n",
      "City 552 : rutul\n",
      "City 553 : darnah\n",
      "City 554 : san patricio\n",
      "City 555 : wewak\n",
      "City 556 : bage\n",
      "City 557 : berlevag\n",
      "City 558 : turtas\n",
      "City 559 : pandan\n",
      "City 560 : vao\n",
      "City 561 Not Found\n",
      "City 562 Not Found\n",
      "City 563 : lekoni\n",
      "City 564 : olafsvik\n",
      "City 565 : belmonte\n",
      "City 566 : sao sebastiao\n",
      "City 567 : airai\n",
      "City 568 : katiola\n",
      "City 569 : aksarka\n",
      "City 570 : karratha\n",
      "City 571 : schmallenberg\n",
      "City 572 : juneau\n",
      "City 573 : pocatello\n",
      "City 574 : barsovo\n",
      "City 575 : iwaki\n",
      "City 576 : luba\n",
      "City 577 : asau\n",
      "City 578 : uige\n",
      "City 579 : kulebaki\n",
      "City 580 Not Found\n",
      "City 581 Not Found\n",
      "City 582 : santa fe\n",
      "City 583 : la asuncion\n",
      "City 584 : bilibino\n",
      "City 585 : bull savanna\n",
      "City 586 : balaipungut\n",
      "City 587 : teseney\n",
      "City 588 : dunedin\n",
      "City 589 : puerto carreno\n",
      "City 590 Not Found\n",
      "City 591 Not Found\n",
      "City 592 : houma\n",
      "City 593 : sarkand\n",
      "City 594 : el calvario\n",
      "City 595 : siavonga\n",
      "City 596 : mulanje\n",
      "City 597 : visby\n",
      "City 598 Not Found\n",
      "City 599 : ewa beach\n",
      "City 600 : kushiro\n",
      "City 601 : channel-port aux basques\n",
      "City 602 : bilsanda\n",
      "City 603 : kavaratti\n",
      "City 604 : kasangulu\n",
      "City 605 : adygeysk\n",
      "City 606 : bogovarovo\n",
      "City 607 : ucluelet\n",
      "City 608 : toora-khem\n",
      "City 609 : galveston\n",
      "City 610 : monte santo\n",
      "City 611 : kaeo\n",
      "City 612 : sao jose do rio pardo\n",
      "City 613 : huejucar\n",
      "City 614 : hamilton\n",
      "City 615 : benito juarez\n",
      "City 616 : talcahuano\n",
      "City 617 : gravdal\n",
      "City 618 : gari\n",
      "City 619 : pishin\n",
      "City 620 : biltine\n",
      "City 621 : port-gentil\n",
      "City 622 : salinopolis\n",
      "City 623 : tucuman\n",
      "City 624 : topolobampo\n",
      "City 625 : popondetta\n",
      "City 626 Not Found\n",
      "City 627 : sambava\n",
      "City 628 : ambulu\n",
      "City 629 : pinega\n",
      "City 630 : christchurch\n",
      "City 631 : port huron\n",
      "City 632 : ahipara\n",
      "City 633 : porto santo\n",
      "City 634 : aanekoski\n"
     ]
    }
   ],
   "source": [
    "# Lists\n",
    "city_id = []\n",
    "city_name = []\n",
    "cloudlines = []\n",
    "country = []\n",
    "date = []\n",
    "humidity = []\n",
    "lat = []\n",
    "long = []\n",
    "max_temp = []\n",
    "wind_speed = []\n",
    "\n",
    "url = \"http://api.openweathermap.org/data/2.5/weather?\"\n",
    "units = \"imperial\"\n",
    "\n",
    "query_url = f\"{url}appid={weather_api_key}&units={units}&q=\"\n",
    "\n",
    "for city in cities:\n",
    "    response = requests.get(query_url + city).json()\n",
    "    if response == {'cod': '404', 'message': 'city not found'}:\n",
    "        print(f\"City {cities.index(city)} Not Found\")\n",
    "    else:\n",
    "        city_id.append([cities.index(city)])\n",
    "        city_name.append(city)\n",
    "        cloudlines.append(response['clouds']['all'])\n",
    "        country.append(response[\"sys\"]['country'])\n",
    "        date.append(response[\"dt\"])\n",
    "        humidity.append(response[\"main\"]['humidity'])\n",
    "        lat.append(response[\"coord\"]['lat'])\n",
    "        long.append(response[\"coord\"]['lon'])\n",
    "        max_temp.append(response[\"main\"]['temp_max'])\n",
    "        wind_speed.append(response[\"wind\"]['speed'])\n",
    "        print(f\"City {cities.index(city)} : {city}\")"
   ]
  },
  {
   "cell_type": "markdown",
   "metadata": {},
   "source": [
    "### Convert Raw Data to DataFrame\n",
    "* Export the city data into a .csv.\n",
    "* Display the DataFrame"
   ]
  },
  {
   "cell_type": "code",
   "execution_count": 22,
   "metadata": {},
   "outputs": [
    {
     "data": {
      "text/html": [
       "<div>\n",
       "<style scoped>\n",
       "    .dataframe tbody tr th:only-of-type {\n",
       "        vertical-align: middle;\n",
       "    }\n",
       "\n",
       "    .dataframe tbody tr th {\n",
       "        vertical-align: top;\n",
       "    }\n",
       "\n",
       "    .dataframe thead th {\n",
       "        text-align: right;\n",
       "    }\n",
       "</style>\n",
       "<table border=\"1\" class=\"dataframe\">\n",
       "  <thead>\n",
       "    <tr style=\"text-align: right;\">\n",
       "      <th></th>\n",
       "      <th>City ID</th>\n",
       "      <th>City</th>\n",
       "      <th>Cloudiness</th>\n",
       "      <th>Country</th>\n",
       "      <th>Date</th>\n",
       "      <th>Humidity</th>\n",
       "      <th>Latitude</th>\n",
       "      <th>Longitude</th>\n",
       "      <th>Max Temp</th>\n",
       "      <th>Wind Speed</th>\n",
       "    </tr>\n",
       "  </thead>\n",
       "  <tbody>\n",
       "    <tr>\n",
       "      <th>0</th>\n",
       "      <td>[1]</td>\n",
       "      <td>provideniya</td>\n",
       "      <td>9</td>\n",
       "      <td>RU</td>\n",
       "      <td>1672615938</td>\n",
       "      <td>77</td>\n",
       "      <td>64.3833</td>\n",
       "      <td>-173.3000</td>\n",
       "      <td>-0.94</td>\n",
       "      <td>12.95</td>\n",
       "    </tr>\n",
       "    <tr>\n",
       "      <th>1</th>\n",
       "      <td>[2]</td>\n",
       "      <td>cherskiy</td>\n",
       "      <td>93</td>\n",
       "      <td>RU</td>\n",
       "      <td>1672615938</td>\n",
       "      <td>99</td>\n",
       "      <td>68.7500</td>\n",
       "      <td>161.3000</td>\n",
       "      <td>-45.92</td>\n",
       "      <td>5.06</td>\n",
       "    </tr>\n",
       "    <tr>\n",
       "      <th>2</th>\n",
       "      <td>[4]</td>\n",
       "      <td>hobart</td>\n",
       "      <td>0</td>\n",
       "      <td>AU</td>\n",
       "      <td>1672615802</td>\n",
       "      <td>71</td>\n",
       "      <td>-42.8794</td>\n",
       "      <td>147.3294</td>\n",
       "      <td>77.22</td>\n",
       "      <td>5.75</td>\n",
       "    </tr>\n",
       "    <tr>\n",
       "      <th>3</th>\n",
       "      <td>[5]</td>\n",
       "      <td>jalu</td>\n",
       "      <td>78</td>\n",
       "      <td>LY</td>\n",
       "      <td>1672615939</td>\n",
       "      <td>66</td>\n",
       "      <td>29.0331</td>\n",
       "      <td>21.5482</td>\n",
       "      <td>54.10</td>\n",
       "      <td>5.50</td>\n",
       "    </tr>\n",
       "    <tr>\n",
       "      <th>4</th>\n",
       "      <td>[6]</td>\n",
       "      <td>ushuaia</td>\n",
       "      <td>40</td>\n",
       "      <td>AR</td>\n",
       "      <td>1672615939</td>\n",
       "      <td>50</td>\n",
       "      <td>-54.8000</td>\n",
       "      <td>-68.3000</td>\n",
       "      <td>55.06</td>\n",
       "      <td>12.66</td>\n",
       "    </tr>\n",
       "    <tr>\n",
       "      <th>...</th>\n",
       "      <td>...</td>\n",
       "      <td>...</td>\n",
       "      <td>...</td>\n",
       "      <td>...</td>\n",
       "      <td>...</td>\n",
       "      <td>...</td>\n",
       "      <td>...</td>\n",
       "      <td>...</td>\n",
       "      <td>...</td>\n",
       "      <td>...</td>\n",
       "    </tr>\n",
       "    <tr>\n",
       "      <th>573</th>\n",
       "      <td>[630]</td>\n",
       "      <td>christchurch</td>\n",
       "      <td>40</td>\n",
       "      <td>NZ</td>\n",
       "      <td>1672615827</td>\n",
       "      <td>55</td>\n",
       "      <td>-43.5333</td>\n",
       "      <td>172.6333</td>\n",
       "      <td>71.42</td>\n",
       "      <td>18.41</td>\n",
       "    </tr>\n",
       "    <tr>\n",
       "      <th>574</th>\n",
       "      <td>[631]</td>\n",
       "      <td>port huron</td>\n",
       "      <td>100</td>\n",
       "      <td>US</td>\n",
       "      <td>1672616117</td>\n",
       "      <td>94</td>\n",
       "      <td>42.9709</td>\n",
       "      <td>-82.4249</td>\n",
       "      <td>41.86</td>\n",
       "      <td>4.61</td>\n",
       "    </tr>\n",
       "    <tr>\n",
       "      <th>575</th>\n",
       "      <td>[632]</td>\n",
       "      <td>ahipara</td>\n",
       "      <td>100</td>\n",
       "      <td>NZ</td>\n",
       "      <td>1672616118</td>\n",
       "      <td>59</td>\n",
       "      <td>-35.1667</td>\n",
       "      <td>173.1667</td>\n",
       "      <td>71.67</td>\n",
       "      <td>15.23</td>\n",
       "    </tr>\n",
       "    <tr>\n",
       "      <th>576</th>\n",
       "      <td>[633]</td>\n",
       "      <td>porto santo</td>\n",
       "      <td>20</td>\n",
       "      <td>PT</td>\n",
       "      <td>1672616118</td>\n",
       "      <td>72</td>\n",
       "      <td>33.0720</td>\n",
       "      <td>-16.3415</td>\n",
       "      <td>61.18</td>\n",
       "      <td>6.91</td>\n",
       "    </tr>\n",
       "    <tr>\n",
       "      <th>577</th>\n",
       "      <td>[634]</td>\n",
       "      <td>aanekoski</td>\n",
       "      <td>7</td>\n",
       "      <td>FI</td>\n",
       "      <td>1672616118</td>\n",
       "      <td>100</td>\n",
       "      <td>62.6946</td>\n",
       "      <td>25.8180</td>\n",
       "      <td>25.68</td>\n",
       "      <td>9.95</td>\n",
       "    </tr>\n",
       "  </tbody>\n",
       "</table>\n",
       "<p>578 rows × 10 columns</p>\n",
       "</div>"
      ],
      "text/plain": [
       "    City ID          City  Cloudiness Country        Date  Humidity  Latitude  \\\n",
       "0       [1]   provideniya           9      RU  1672615938        77   64.3833   \n",
       "1       [2]      cherskiy          93      RU  1672615938        99   68.7500   \n",
       "2       [4]        hobart           0      AU  1672615802        71  -42.8794   \n",
       "3       [5]          jalu          78      LY  1672615939        66   29.0331   \n",
       "4       [6]       ushuaia          40      AR  1672615939        50  -54.8000   \n",
       "..      ...           ...         ...     ...         ...       ...       ...   \n",
       "573   [630]  christchurch          40      NZ  1672615827        55  -43.5333   \n",
       "574   [631]    port huron         100      US  1672616117        94   42.9709   \n",
       "575   [632]       ahipara         100      NZ  1672616118        59  -35.1667   \n",
       "576   [633]   porto santo          20      PT  1672616118        72   33.0720   \n",
       "577   [634]     aanekoski           7      FI  1672616118       100   62.6946   \n",
       "\n",
       "     Longitude  Max Temp  Wind Speed  \n",
       "0    -173.3000     -0.94       12.95  \n",
       "1     161.3000    -45.92        5.06  \n",
       "2     147.3294     77.22        5.75  \n",
       "3      21.5482     54.10        5.50  \n",
       "4     -68.3000     55.06       12.66  \n",
       "..         ...       ...         ...  \n",
       "573   172.6333     71.42       18.41  \n",
       "574   -82.4249     41.86        4.61  \n",
       "575   173.1667     71.67       15.23  \n",
       "576   -16.3415     61.18        6.91  \n",
       "577    25.8180     25.68        9.95  \n",
       "\n",
       "[578 rows x 10 columns]"
      ]
     },
     "execution_count": 22,
     "metadata": {},
     "output_type": "execute_result"
    }
   ],
   "source": [
    "weather_dict = {\n",
    "    \"City ID\":city_id,\n",
    "    \"City\" : city_name,\n",
    "    \"Cloudiness\" : cloudlines,\n",
    "    \"Country\" : country,\n",
    "    \"Date\" : date,\n",
    "    \"Humidity\" : humidity,\n",
    "    \"Latitude\" : lat,\n",
    "    \"Longitude\" : long,\n",
    "    \"Max Temp\" : max_temp,\n",
    "    \"Wind Speed\" : wind_speed,\n",
    "}\n",
    "weather_data = pd.DataFrame(weather_dict)\n",
    "weather_data"
   ]
  },
  {
   "cell_type": "code",
   "execution_count": 23,
   "metadata": {},
   "outputs": [],
   "source": [
    "#with open('city_weather_data.csv', 'w') as \n",
    "weather_data.to_csv(\"cities.csv\") "
   ]
  },
  {
   "cell_type": "markdown",
   "metadata": {},
   "source": [
    "## Inspect the data and remove the cities where the humidity > 100%.\n",
    "----\n",
    "Skip this step if there are no cities that have humidity > 100%. "
   ]
  },
  {
   "cell_type": "code",
   "execution_count": 24,
   "metadata": {},
   "outputs": [
    {
     "name": "stdout",
     "output_type": "stream",
     "text": [
      "559\n"
     ]
    }
   ],
   "source": [
    "clean_city_data = weather_data[weather_data['Humidity'] < 100]\n",
    "print(len(clean_city_data))"
   ]
  },
  {
   "cell_type": "code",
   "execution_count": 25,
   "metadata": {},
   "outputs": [],
   "source": [
    "# Make a new DataFrame equal to the city data to drop all humidity outliers by index.\n",
    "# Passing \"inplace=False\" will make a copy of the city_data DataFrame, which we call \"clean_city_data\".\n"
   ]
  },
  {
   "cell_type": "markdown",
   "metadata": {},
   "source": [
    "## Plotting the Data\n",
    "* Use proper labeling of the plots using plot titles (including date of analysis) and axes labels.\n",
    "* Save the plotted figures as .pngs."
   ]
  },
  {
   "cell_type": "markdown",
   "metadata": {},
   "source": [
    "## Latitude vs. Temperature Plot"
   ]
  },
  {
   "cell_type": "code",
   "execution_count": 27,
   "metadata": {
    "scrolled": true
   },
   "outputs": [
    {
     "data": {
      "image/png": "[encoded data removed]",
      "text/plain": [
       "<Figure size 432x288 with 1 Axes>"
      ]
     },
     "metadata": {
      "needs_background": "light"
     },
     "output_type": "display_data"
    }
   ],
   "source": [
    "from datetime import datetime\n",
    "\n",
    "plt.scatter(clean_city_data[\"Latitude\"],clean_city_data[\"Max Temp\"])\n",
    "plt.title(f\"Latitude vs Temperature {datetime.fromtimestamp(max(date)).strftime('%d-%m-%y')}\")\n",
    "plt.xlabel(\"Latitude\")\n",
    "plt.ylabel(\"Max Temp (F)\")\n",
    "plt.grid()"
   ]
  },
  {
   "cell_type": "markdown",
   "metadata": {},
   "source": [
    "# Here the code is analyzing the relationship between the latitude of each city and the maximum temperture"
   ]
  },
  {
   "cell_type": "markdown",
   "metadata": {},
   "source": [
    "## Latitude vs. Humidity Plot"
   ]
  },
  {
   "cell_type": "code",
   "execution_count": 28,
   "metadata": {},
   "outputs": [
    {
     "data": {
      "image/png": "[encoded data removed]",
      "text/plain": [
       "<Figure size 432x288 with 1 Axes>"
      ]
     },
     "metadata": {
      "needs_background": "light"
     },
     "output_type": "display_data"
    }
   ],
   "source": [
    "plt.scatter(clean_city_data[\"Latitude\"],clean_city_data[\"Humidity\"])\n",
    "plt.title(f\"Latitude vs Humidity {datetime.fromtimestamp(max(date)).strftime('%d-%m-%y')}\")\n",
    "plt.xlabel(\"Latitude\")\n",
    "plt.ylabel(\"Humidity (%)\")\n",
    "plt.grid()"
   ]
  },
  {
   "cell_type": "markdown",
   "metadata": {},
   "source": [
    "# Here the code is analyzing the relationship between the latitude of each city and the humidity"
   ]
  },
  {
   "cell_type": "markdown",
   "metadata": {},
   "source": [
    "## Latitude vs. Cloudiness Plot"
   ]
  },
  {
   "cell_type": "code",
   "execution_count": 29,
   "metadata": {},
   "outputs": [
    {
     "data": {
      "image/png": "[encoded data removed]",
      "text/plain": [
       "<Figure size 432x288 with 1 Axes>"
      ]
     },
     "metadata": {
      "needs_background": "light"
     },
     "output_type": "display_data"
    }
   ],
   "source": [
    "plt.scatter(clean_city_data[\"Latitude\"],clean_city_data[\"Cloudiness\"])\n",
    "plt.title(f\"Latitude vs Cloudiness {datetime.fromtimestamp(max(date)).strftime('%d-%m-%y')}\")\n",
    "plt.xlabel(\"Latitude\")\n",
    "plt.ylabel(\"Cloudiness (%)\")\n",
    "plt.grid()"
   ]
  },
  {
   "cell_type": "markdown",
   "metadata": {},
   "source": [
    "# Here the code is analyzing the relationship between the latitude of each city and the cloudiness"
   ]
  },
  {
   "cell_type": "markdown",
   "metadata": {},
   "source": [
    "## Latitude vs. Wind Speed Plot"
   ]
  },
  {
   "cell_type": "code",
   "execution_count": 30,
   "metadata": {},
   "outputs": [
    {
     "data": {
      "image/png": "[encoded data removed]",
      "text/plain": [
       "<Figure size 432x288 with 1 Axes>"
      ]
     },
     "metadata": {
      "needs_background": "light"
     },
     "output_type": "display_data"
    }
   ],
   "source": [
    "plt.scatter(clean_city_data[\"Latitude\"],clean_city_data[\"Wind Speed\"])\n",
    "plt.title(f\"Latitude vs Wind Speed {datetime.fromtimestamp(max(date)).strftime('%d-%m-%y')}\")\n",
    "plt.xlabel(\"Latitude\")\n",
    "plt.ylabel(\"Wind Speed (Miles/Hour)\")\n",
    "plt.grid()"
   ]
  },
  {
   "cell_type": "markdown",
   "metadata": {},
   "source": [
    "# Here the code is analyzing the relationship between the latitude of each city and the wind speed"
   ]
  },
  {
   "cell_type": "markdown",
   "metadata": {},
   "source": [
    "## Linear Regression"
   ]
  },
  {
   "cell_type": "code",
   "execution_count": 31,
   "metadata": {},
   "outputs": [],
   "source": [
    "northern_hemi_data = clean_city_data[clean_city_data['Longitude'] >= 0]\n",
    "southern_hemi_data = clean_city_data[clean_city_data['Longitude'] < 0]"
   ]
  },
  {
   "cell_type": "markdown",
   "metadata": {},
   "source": [
    "####  Northern Hemisphere - Max Temp vs. Latitude Linear Regression"
   ]
  },
  {
   "cell_type": "code",
   "execution_count": 32,
   "metadata": {},
   "outputs": [
    {
     "data": {
      "text/plain": [
       "[<matplotlib.lines.Line2D at 0x273b63b5820>,\n",
       " <matplotlib.lines.Line2D at 0x273b5b84160>]"
      ]
     },
     "execution_count": 32,
     "metadata": {},
     "output_type": "execute_result"
    },
    {
     "data": {
      "image/png": "[encoded data removed]",
      "text/plain": [
       "<Figure size 432x288 with 1 Axes>"
      ]
     },
     "metadata": {
      "needs_background": "light"
     },
     "output_type": "display_data"
    }
   ],
   "source": [
    "plt.scatter(northern_hemi_data[\"Latitude\"],northern_hemi_data[\"Max Temp\"])\n",
    "plt.title(f\"Latitude vs Temperature {datetime.fromtimestamp(max(date)).strftime('%d-%m-%y')}\")\n",
    "plt.xlabel(\"Latitude\")\n",
    "plt.ylabel(\"Max Temp (F)\")\n",
    "plt.grid()\n",
    "\n",
    "x = northern_hemi_data[\"Latitude\"]\n",
    "y = northern_hemi_data[\"Max Temp\"]\n",
    "\n",
    "coef = np.polyfit(x,y,1)\n",
    "poly1d_fn = np.poly1d(coef) \n",
    "\n",
    "plt.plot(x,y, 'bo', x, poly1d_fn(x))"
   ]
  },
  {
   "cell_type": "markdown",
   "metadata": {},
   "source": [
    "####  Southern Hemisphere - Max Temp vs. Latitude Linear Regression"
   ]
  },
  {
   "cell_type": "code",
   "execution_count": 33,
   "metadata": {},
   "outputs": [
    {
     "data": {
      "text/plain": [
       "[<matplotlib.lines.Line2D at 0x273b7979610>,\n",
       " <matplotlib.lines.Line2D at 0x273b79795e0>]"
      ]
     },
     "execution_count": 33,
     "metadata": {},
     "output_type": "execute_result"
    },
    {
     "data": {
      "image/png": "[encoded data removed]",
      "text/plain": [
       "<Figure size 432x288 with 1 Axes>"
      ]
     },
     "metadata": {
      "needs_background": "light"
     },
     "output_type": "display_data"
    }
   ],
   "source": [
    "plt.scatter(southern_hemi_data[\"Latitude\"],southern_hemi_data[\"Max Temp\"])\n",
    "plt.title(f\"Latitude vs Temperature {datetime.fromtimestamp(max(date)).strftime('%d-%m-%y')}\")\n",
    "plt.xlabel(\"Latitude\")\n",
    "plt.ylabel(\"Max Temp (F)\")\n",
    "plt.grid()\n",
    "\n",
    "x = southern_hemi_data[\"Latitude\"]\n",
    "y = southern_hemi_data[\"Max Temp\"]\n",
    "\n",
    "coef = np.polyfit(x,y,1)\n",
    "poly1d_fn = np.poly1d(coef) \n",
    "\n",
    "plt.plot(x,y, 'bo', x, poly1d_fn(x))"
   ]
  },
  {
   "cell_type": "markdown",
   "metadata": {},
   "source": [
    "####  Northern Hemisphere - Humidity (%) vs. Latitude Linear Regression"
   ]
  },
  {
   "cell_type": "code",
   "execution_count": 34,
   "metadata": {},
   "outputs": [
    {
     "data": {
      "text/plain": [
       "[<matplotlib.lines.Line2D at 0x273b79e9d90>,\n",
       " <matplotlib.lines.Line2D at 0x273b79e9d60>]"
      ]
     },
     "execution_count": 34,
     "metadata": {},
     "output_type": "execute_result"
    },
    {
     "data": {
      "image/png": "[encoded data removed]",
      "text/plain": [
       "<Figure size 432x288 with 1 Axes>"
      ]
     },
     "metadata": {
      "needs_background": "light"
     },
     "output_type": "display_data"
    }
   ],
   "source": [
    "plt.scatter(northern_hemi_data[\"Latitude\"],northern_hemi_data[\"Humidity\"])\n",
    "plt.title(f\"Latitude vs Humidity {datetime.fromtimestamp(max(date)).strftime('%d-%m-%y')}\")\n",
    "plt.xlabel(\"Latitude\")\n",
    "plt.ylabel(\"Humidity (%)\")\n",
    "plt.grid()\n",
    "\n",
    "x = northern_hemi_data[\"Latitude\"]\n",
    "y = northern_hemi_data[\"Humidity\"]\n",
    "\n",
    "coef = np.polyfit(x,y,1)\n",
    "poly1d_fn = np.poly1d(coef) \n",
    "\n",
    "plt.plot(x,y, 'bo', x, poly1d_fn(x))"
   ]
  },
  {
   "cell_type": "markdown",
   "metadata": {},
   "source": [
    "####  Southern Hemisphere - Humidity (%) vs. Latitude Linear Regression"
   ]
  },
  {
   "cell_type": "code",
   "execution_count": 35,
   "metadata": {},
   "outputs": [
    {
     "data": {
      "text/plain": [
       "[<matplotlib.lines.Line2D at 0x273b7a65bb0>,\n",
       " <matplotlib.lines.Line2D at 0x273b7a65b80>]"
      ]
     },
     "execution_count": 35,
     "metadata": {},
     "output_type": "execute_result"
    },
    {
     "data": {
      "image/png": "[encoded data removed]",
      "text/plain": [
       "<Figure size 432x288 with 1 Axes>"
      ]
     },
     "metadata": {
      "needs_background": "light"
     },
     "output_type": "display_data"
    }
   ],
   "source": [
    "plt.scatter(southern_hemi_data[\"Latitude\"],southern_hemi_data[\"Humidity\"])\n",
    "plt.title(f\"Latitude vs Humidity {datetime.fromtimestamp(max(date)).strftime('%d-%m-%y')}\")\n",
    "plt.xlabel(\"Latitude\")\n",
    "plt.ylabel(\"Humidity (%)\")\n",
    "plt.grid()\n",
    "\n",
    "x = southern_hemi_data[\"Latitude\"]\n",
    "y = southern_hemi_data[\"Humidity\"]\n",
    "\n",
    "coef = np.polyfit(x,y,1)\n",
    "poly1d_fn = np.poly1d(coef) \n",
    "\n",
    "plt.plot(x,y, 'bo', x, poly1d_fn(x))"
   ]
  },
  {
   "cell_type": "markdown",
   "metadata": {},
   "source": [
    "####  Northern Hemisphere - Cloudiness (%) vs. Latitude Linear Regression"
   ]
  },
  {
   "cell_type": "code",
   "execution_count": 36,
   "metadata": {},
   "outputs": [
    {
     "data": {
      "text/plain": [
       "[<matplotlib.lines.Line2D at 0x273b7ae35b0>,\n",
       " <matplotlib.lines.Line2D at 0x273b7ae3580>]"
      ]
     },
     "execution_count": 36,
     "metadata": {},
     "output_type": "execute_result"
    },
    {
     "data": {
      "image/png": "[encoded data removed]",
      "text/plain": [
       "<Figure size 432x288 with 1 Axes>"
      ]
     },
     "metadata": {
      "needs_background": "light"
     },
     "output_type": "display_data"
    }
   ],
   "source": [
    "plt.scatter(northern_hemi_data[\"Latitude\"],northern_hemi_data[\"Cloudiness\"])\n",
    "plt.title(f\"Latitude vs Cloudiness {datetime.fromtimestamp(max(date)).strftime('%d-%m-%y')}\")\n",
    "plt.xlabel(\"Latitude\")\n",
    "plt.ylabel(\"Cloudiness (%)\")\n",
    "plt.grid()\n",
    "\n",
    "x = northern_hemi_data[\"Latitude\"]\n",
    "y = northern_hemi_data[\"Cloudiness\"]\n",
    "\n",
    "coef = np.polyfit(x,y,1)\n",
    "poly1d_fn = np.poly1d(coef) \n",
    "\n",
    "plt.plot(x,y, 'bo', x, poly1d_fn(x))"
   ]
  },
  {
   "cell_type": "markdown",
   "metadata": {},
   "source": [
    "####  Southern Hemisphere - Cloudiness (%) vs. Latitude Linear Regression"
   ]
  },
  {
   "cell_type": "code",
   "execution_count": 37,
   "metadata": {},
   "outputs": [
    {
     "data": {
      "text/plain": [
       "[<matplotlib.lines.Line2D at 0x273b7b59040>,\n",
       " <matplotlib.lines.Line2D at 0x273b7b59130>]"
      ]
     },
     "execution_count": 37,
     "metadata": {},
     "output_type": "execute_result"
    },
    {
     "data": {
      "image/png": "[encoded data removed]",
      "text/plain": [
       "<Figure size 432x288 with 1 Axes>"
      ]
     },
     "metadata": {
      "needs_background": "light"
     },
     "output_type": "display_data"
    }
   ],
   "source": [
    "plt.scatter(southern_hemi_data[\"Latitude\"],southern_hemi_data[\"Cloudiness\"])\n",
    "plt.title(f\"Latitude vs Cloudiness {datetime.fromtimestamp(max(date)).strftime('%d-%m-%y')}\")\n",
    "plt.xlabel(\"Latitude\")\n",
    "plt.ylabel(\"Cloudiness (%)\")\n",
    "plt.grid()\n",
    "\n",
    "x = southern_hemi_data[\"Latitude\"]\n",
    "y = southern_hemi_data[\"Cloudiness\"]\n",
    "\n",
    "coef = np.polyfit(x,y,1)\n",
    "poly1d_fn = np.poly1d(coef) \n",
    "\n",
    "plt.plot(x,y, 'bo', x, poly1d_fn(x))"
   ]
  },
  {
   "cell_type": "markdown",
   "metadata": {},
   "source": [
    "####  Northern Hemisphere - Wind Speed (mph) vs. Latitude Linear Regression"
   ]
  },
  {
   "cell_type": "code",
   "execution_count": 38,
   "metadata": {},
   "outputs": [
    {
     "data": {
      "text/plain": [
       "[<matplotlib.lines.Line2D at 0x273b7bd20d0>,\n",
       " <matplotlib.lines.Line2D at 0x273b7bd20a0>]"
      ]
     },
     "execution_count": 38,
     "metadata": {},
     "output_type": "execute_result"
    },
    {
     "data": {
      "image/png": "[encoded data removed]",
      "text/plain": [
       "<Figure size 432x288 with 1 Axes>"
      ]
     },
     "metadata": {
      "needs_background": "light"
     },
     "output_type": "display_data"
    }
   ],
   "source": [
    "plt.scatter(northern_hemi_data[\"Latitude\"],northern_hemi_data[\"Wind Speed\"])\n",
    "plt.title(f\"Latitude vs Wind Speed {datetime.fromtimestamp(max(date)).strftime('%d-%m-%y')}\")\n",
    "plt.xlabel(\"Latitude\")\n",
    "plt.ylabel(\"Wind Speed (mph)\")\n",
    "plt.grid()\n",
    "\n",
    "x = northern_hemi_data[\"Latitude\"]\n",
    "y = northern_hemi_data[\"Wind Speed\"]\n",
    "\n",
    "coef = np.polyfit(x,y,1)\n",
    "poly1d_fn = np.poly1d(coef) \n",
    "\n",
    "plt.plot(x,y, 'bo', x, poly1d_fn(x))"
   ]
  },
  {
   "cell_type": "markdown",
   "metadata": {},
   "source": [
    "####  Southern Hemisphere - Wind Speed (mph) vs. Latitude Linear Regression"
   ]
  },
  {
   "cell_type": "code",
   "execution_count": 39,
   "metadata": {},
   "outputs": [
    {
     "data": {
      "text/plain": [
       "[<matplotlib.lines.Line2D at 0x273b7c447f0>,\n",
       " <matplotlib.lines.Line2D at 0x273b7c447c0>]"
      ]
     },
     "execution_count": 39,
     "metadata": {},
     "output_type": "execute_result"
    },
    {
     "data": {
      "image/png": "[encoded data removed]",
      "text/plain": [
       "<Figure size 432x288 with 1 Axes>"
      ]
     },
     "metadata": {
      "needs_background": "light"
     },
     "output_type": "display_data"
    }
   ],
   "source": [
    "plt.scatter(southern_hemi_data[\"Latitude\"],southern_hemi_data[\"Wind Speed\"])\n",
    "plt.title(f\"Latitude vs Wind Speed {datetime.fromtimestamp(max(date)).strftime('%d-%m-%y')}\")\n",
    "plt.xlabel(\"Latitude\")\n",
    "plt.ylabel(\"Wind Speed (mph)\")\n",
    "plt.grid()\n",
    "\n",
    "x = southern_hemi_data[\"Latitude\"]\n",
    "y = southern_hemi_data[\"Wind Speed\"]\n",
    "\n",
    "coef = np.polyfit(x,y,1)\n",
    "poly1d_fn = np.poly1d(coef) \n",
    "\n",
    "plt.plot(x,y, 'bo', x, poly1d_fn(x))"
   ]
  },
  {
   "cell_type": "code",
   "execution_count": null,
   "metadata": {},
   "outputs": [],
   "source": []
  }
 ],
 "metadata": {
  "anaconda-cloud": {},
  "kernel_info": {
   "name": "python3"
  },
  "kernelspec": {
   "display_name": "Python 3.9.7 ('base')",
   "language": "python",
   "name": "python3"
  },
  "language_info": {
   "codemirror_mode": {
    "name": "ipython",
    "version": 3
   },
   "file_extension": ".py",
   "mimetype": "text/x-python",
   "name": "python",
   "nbconvert_exporter": "python",
   "pygments_lexer": "ipython3",
   "version": "3.9.7"
  },
  "latex_envs": {
   "LaTeX_envs_menu_present": true,
   "autoclose": false,
   "autocomplete": true,
   "bibliofile": "biblio.bib",
   "cite_by": "apalike",
   "current_citInitial": 1,
   "eqLabelWithNumbers": true,
   "eqNumInitial": 1,
   "hotkeys": {
    "equation": "Ctrl-E",
    "itemize": "Ctrl-I"
   },
   "labels_anchors": false,
   "latex_user_defs": false,
   "report_style_numbering": false,
   "user_envs_cfg": false
  },
  "nteract": {
   "version": "0.12.3"
  },
  "vscode": {
   "interpreter": {
    "hash": "34c67e8af8d6d08139dc7baa7182b3b866a978042d5934b1571eea78e1d74667"
   }
  }
 },
 "nbformat": 4,
 "nbformat_minor": 2
}
